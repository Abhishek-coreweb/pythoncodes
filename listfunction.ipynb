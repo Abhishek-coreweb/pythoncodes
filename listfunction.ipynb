{
 "cells": [
  {
   "cell_type": "code",
   "execution_count": 1,
   "id": "eee723c8-eced-4b8b-9b76-5508babd2967",
   "metadata": {},
   "outputs": [],
   "source": [
    "li=[2,235,35,\"abhi\",5+6j,234.233]"
   ]
  },
  {
   "cell_type": "code",
   "execution_count": 2,
   "id": "629048bc-ae0d-4878-93be-822815d4da15",
   "metadata": {},
   "outputs": [
    {
     "name": "stdout",
     "output_type": "stream",
     "text": [
      "[2, 235, 35, 'abhi', (5+6j), 234.233]\n"
     ]
    }
   ],
   "source": [
    "print(li)"
   ]
  },
  {
   "cell_type": "code",
   "execution_count": 3,
   "id": "3c32a7b2-07d6-4507-9a9b-20a43f380fe2",
   "metadata": {},
   "outputs": [
    {
     "data": {
      "text/plain": [
       "list"
      ]
     },
     "execution_count": 3,
     "metadata": {},
     "output_type": "execute_result"
    }
   ],
   "source": [
    "type(li)"
   ]
  },
  {
   "cell_type": "code",
   "execution_count": 4,
   "id": "b5d62a53-8e8e-48b1-a50e-63fd6a8d7eb7",
   "metadata": {},
   "outputs": [
    {
     "data": {
      "text/plain": [
       "'abhi'"
      ]
     },
     "execution_count": 4,
     "metadata": {},
     "output_type": "execute_result"
    }
   ],
   "source": [
    "li[3]"
   ]
  },
  {
   "cell_type": "code",
   "execution_count": 5,
   "id": "d0b0bbe2-a5f6-4146-a273-3ea0bdcbbabc",
   "metadata": {},
   "outputs": [],
   "source": [
    "a=\"msg\""
   ]
  },
  {
   "cell_type": "code",
   "execution_count": 6,
   "id": "7bb1b208-81e0-405f-8def-b260a0b6d0dd",
   "metadata": {},
   "outputs": [
    {
     "name": "stdout",
     "output_type": "stream",
     "text": [
      "msg\n"
     ]
    }
   ],
   "source": [
    "print(a)"
   ]
  },
  {
   "cell_type": "code",
   "execution_count": 7,
   "id": "a349690c-a008-4c31-b619-6c3b4fc844e0",
   "metadata": {},
   "outputs": [
    {
     "data": {
      "text/plain": [
       "['m', 's', 'g']"
      ]
     },
     "execution_count": 7,
     "metadata": {},
     "output_type": "execute_result"
    }
   ],
   "source": [
    "list(a)"
   ]
  },
  {
   "cell_type": "code",
   "execution_count": 8,
   "id": "24071aea-6c5f-494c-aef0-aa6ff0f52fb6",
   "metadata": {},
   "outputs": [
    {
     "data": {
      "text/plain": [
       "['m', 's', 'g', 2, 235, 35, 'abhi', (5+6j), 234.233]"
      ]
     },
     "execution_count": 8,
     "metadata": {},
     "output_type": "execute_result"
    }
   ],
   "source": [
    "list(a)+li"
   ]
  },
  {
   "cell_type": "code",
   "execution_count": 9,
   "id": "40e2e627-0064-4620-b974-75d19cf7477f",
   "metadata": {},
   "outputs": [
    {
     "data": {
      "text/plain": [
       "'abhi'"
      ]
     },
     "execution_count": 9,
     "metadata": {},
     "output_type": "execute_result"
    }
   ],
   "source": [
    "li[3]"
   ]
  },
  {
   "cell_type": "code",
   "execution_count": 10,
   "id": "bb79f6a6-a2fa-4dbb-a6c9-cbe661326b03",
   "metadata": {},
   "outputs": [
    {
     "data": {
      "text/plain": [
       "list"
      ]
     },
     "execution_count": 10,
     "metadata": {},
     "output_type": "execute_result"
    }
   ],
   "source": [
    "type(li)"
   ]
  },
  {
   "cell_type": "code",
   "execution_count": 11,
   "id": "efeee7fd-2459-486a-b6d8-e5ddb66c134c",
   "metadata": {},
   "outputs": [
    {
     "data": {
      "text/plain": [
       "str"
      ]
     },
     "execution_count": 11,
     "metadata": {},
     "output_type": "execute_result"
    }
   ],
   "source": [
    "type(li[3])"
   ]
  },
  {
   "cell_type": "code",
   "execution_count": 12,
   "id": "ffed7fc4-8058-4740-9902-7f1330e95742",
   "metadata": {},
   "outputs": [
    {
     "data": {
      "text/plain": [
       "'ab'"
      ]
     },
     "execution_count": 12,
     "metadata": {},
     "output_type": "execute_result"
    }
   ],
   "source": [
    "li[3][0:2]"
   ]
  },
  {
   "cell_type": "code",
   "execution_count": 13,
   "id": "d49f7015-4bba-4622-a49b-1d8a7664fe77",
   "metadata": {},
   "outputs": [
    {
     "data": {
      "text/plain": [
       "(5+6j)"
      ]
     },
     "execution_count": 13,
     "metadata": {},
     "output_type": "execute_result"
    }
   ],
   "source": [
    "li[4]"
   ]
  },
  {
   "cell_type": "code",
   "execution_count": 14,
   "id": "c5396af9-2ec2-4462-b569-e044722e90ad",
   "metadata": {},
   "outputs": [],
   "source": [
    "l=[2,235,35,\"abhi\",True,5+6j,234.233]"
   ]
  },
  {
   "cell_type": "code",
   "execution_count": 15,
   "id": "45e3a055-b135-43f0-bf2d-e0090aaf93f4",
   "metadata": {},
   "outputs": [
    {
     "name": "stdout",
     "output_type": "stream",
     "text": [
      "[2, 235, 35, 'abhi', True, (5+6j), 234.233]\n"
     ]
    }
   ],
   "source": [
    "print(l)"
   ]
  },
  {
   "cell_type": "code",
   "execution_count": 16,
   "id": "9dfd7843-6c76-4342-a7d8-c6966a5e6b55",
   "metadata": {},
   "outputs": [
    {
     "data": {
      "text/plain": [
       "'abhi'"
      ]
     },
     "execution_count": 16,
     "metadata": {},
     "output_type": "execute_result"
    }
   ],
   "source": [
    "l[3]"
   ]
  },
  {
   "cell_type": "code",
   "execution_count": 17,
   "id": "b657ba5f-a749-43aa-8163-f5c7791cb549",
   "metadata": {},
   "outputs": [
    {
     "data": {
      "text/plain": [
       "True"
      ]
     },
     "execution_count": 17,
     "metadata": {},
     "output_type": "execute_result"
    }
   ],
   "source": [
    "l[4]"
   ]
  },
  {
   "cell_type": "code",
   "execution_count": 18,
   "id": "9333af4e-a78b-4228-8592-3aa78fe5b308",
   "metadata": {},
   "outputs": [],
   "source": [
    "b=True"
   ]
  },
  {
   "cell_type": "code",
   "execution_count": 19,
   "id": "8c6e658e-4bfc-4448-bfc0-9bdb237be0e3",
   "metadata": {},
   "outputs": [
    {
     "name": "stdout",
     "output_type": "stream",
     "text": [
      "True\n"
     ]
    }
   ],
   "source": [
    "print(b)"
   ]
  },
  {
   "cell_type": "code",
   "execution_count": 21,
   "id": "0b455b8f-b3e6-4b10-814f-f48a455c4168",
   "metadata": {},
   "outputs": [
    {
     "data": {
      "text/plain": [
       "'True'"
      ]
     },
     "execution_count": 21,
     "metadata": {},
     "output_type": "execute_result"
    }
   ],
   "source": [
    "str(b)"
   ]
  },
  {
   "cell_type": "code",
   "execution_count": 23,
   "id": "80d496a6-d2d1-48e8-bdba-a0a8c61fac17",
   "metadata": {},
   "outputs": [
    {
     "data": {
      "text/plain": [
       "'Tr'"
      ]
     },
     "execution_count": 23,
     "metadata": {},
     "output_type": "execute_result"
    }
   ],
   "source": [
    "str(b)"
   ]
  },
  {
   "cell_type": "code",
   "execution_count": 25,
   "id": "bf8df45a-d134-4ab4-830d-fbda99ff9742",
   "metadata": {},
   "outputs": [
    {
     "data": {
      "text/plain": [
       "'Tr'"
      ]
     },
     "execution_count": 25,
     "metadata": {},
     "output_type": "execute_result"
    }
   ],
   "source": [
    "str(b)[0:2]"
   ]
  },
  {
   "cell_type": "code",
   "execution_count": 26,
   "id": "758df830-f155-4976-b65f-6f7a2d915723",
   "metadata": {},
   "outputs": [
    {
     "data": {
      "text/plain": [
       "str"
      ]
     },
     "execution_count": 26,
     "metadata": {},
     "output_type": "execute_result"
    }
   ],
   "source": [
    "type(li[3])"
   ]
  },
  {
   "cell_type": "code",
   "execution_count": 27,
   "id": "256d0de3-98e3-4561-97e4-6bf1c90f5f33",
   "metadata": {},
   "outputs": [
    {
     "data": {
      "text/plain": [
       "'ab'"
      ]
     },
     "execution_count": 27,
     "metadata": {},
     "output_type": "execute_result"
    }
   ],
   "source": [
    "li[3][0:2]"
   ]
  },
  {
   "cell_type": "code",
   "execution_count": 28,
   "id": "7ed27211-e368-4433-a51a-fabe286e4e58",
   "metadata": {},
   "outputs": [
    {
     "data": {
      "text/plain": [
       "(5+6j)"
      ]
     },
     "execution_count": 28,
     "metadata": {},
     "output_type": "execute_result"
    }
   ],
   "source": [
    "li[4]"
   ]
  },
  {
   "cell_type": "code",
   "execution_count": 29,
   "id": "ecb31d56-091e-451c-b530-6573f05886aa",
   "metadata": {},
   "outputs": [
    {
     "data": {
      "text/plain": [
       "True"
      ]
     },
     "execution_count": 29,
     "metadata": {},
     "output_type": "execute_result"
    }
   ],
   "source": [
    "l[4]"
   ]
  },
  {
   "cell_type": "code",
   "execution_count": 30,
   "id": "482ce61b-1b7a-4012-ba37-d18cf14c85b5",
   "metadata": {},
   "outputs": [
    {
     "data": {
      "text/plain": [
       "\"[2, 235, 35, 'abhi', True, (5+6j), 234.233]\""
      ]
     },
     "execution_count": 30,
     "metadata": {},
     "output_type": "execute_result"
    }
   ],
   "source": [
    "str(l)"
   ]
  },
  {
   "cell_type": "code",
   "execution_count": 31,
   "id": "1d65a066-7e99-4c12-9c98-1e67c5609f9f",
   "metadata": {},
   "outputs": [
    {
     "data": {
      "text/plain": [
       "'True'"
      ]
     },
     "execution_count": 31,
     "metadata": {},
     "output_type": "execute_result"
    }
   ],
   "source": [
    "str(l[4])"
   ]
  },
  {
   "cell_type": "code",
   "execution_count": 33,
   "id": "c81b6ded-df3f-4e1f-a9f3-03a2e360dd46",
   "metadata": {},
   "outputs": [
    {
     "data": {
      "text/plain": [
       "'Tr'"
      ]
     },
     "execution_count": 33,
     "metadata": {},
     "output_type": "execute_result"
    }
   ],
   "source": [
    "str(l[4])[0:2]"
   ]
  },
  {
   "cell_type": "code",
   "execution_count": 34,
   "id": "d93ad3e0-abef-43a9-ac62-581adb89b11e",
   "metadata": {},
   "outputs": [
    {
     "data": {
      "text/plain": [
       "[2,\n",
       " 235,\n",
       " 35,\n",
       " 'abhi',\n",
       " True,\n",
       " (5+6j),\n",
       " 234.233,\n",
       " 2,\n",
       " 235,\n",
       " 35,\n",
       " 'abhi',\n",
       " (5+6j),\n",
       " 234.233]"
      ]
     },
     "execution_count": 34,
     "metadata": {},
     "output_type": "execute_result"
    }
   ],
   "source": [
    "l+li"
   ]
  },
  {
   "cell_type": "code",
   "execution_count": 35,
   "id": "7fb779e2-0e56-465d-bd59-98a4fe799dd2",
   "metadata": {},
   "outputs": [],
   "source": [
    "l1=[1,2,3]"
   ]
  },
  {
   "cell_type": "code",
   "execution_count": 36,
   "id": "9d24c3b2-61d2-4f5a-a4b1-c5e6ca633695",
   "metadata": {},
   "outputs": [
    {
     "data": {
      "text/plain": [
       "[2, 235, 35, 'abhi', True, (5+6j), 234.233, 1, 2, 3]"
      ]
     },
     "execution_count": 36,
     "metadata": {},
     "output_type": "execute_result"
    }
   ],
   "source": [
    "l+l1"
   ]
  },
  {
   "cell_type": "code",
   "execution_count": 37,
   "id": "e1c5f4f8-1121-4f4a-85c4-35163db74cf1",
   "metadata": {},
   "outputs": [
    {
     "data": {
      "text/plain": [
       "[1, 2, 3, 1, 2, 3, 1, 2, 3]"
      ]
     },
     "execution_count": 37,
     "metadata": {},
     "output_type": "execute_result"
    }
   ],
   "source": [
    "l1*3"
   ]
  },
  {
   "cell_type": "code",
   "execution_count": 38,
   "id": "1252f77c-3177-4eed-8582-18fbc9d5cfaa",
   "metadata": {},
   "outputs": [
    {
     "ename": "TypeError",
     "evalue": "unsupported operand type(s) for /: 'list' and 'int'",
     "output_type": "error",
     "traceback": [
      "\u001b[0;31m---------------------------------------------------------------------------\u001b[0m",
      "\u001b[0;31mTypeError\u001b[0m                                 Traceback (most recent call last)",
      "Cell \u001b[0;32mIn[38], line 1\u001b[0m\n\u001b[0;32m----> 1\u001b[0m \u001b[43ml1\u001b[49m\u001b[38;5;241;43m/\u001b[39;49m\u001b[38;5;241;43m3\u001b[39;49m\n",
      "\u001b[0;31mTypeError\u001b[0m: unsupported operand type(s) for /: 'list' and 'int'"
     ]
    }
   ],
   "source": [
    "l1/3"
   ]
  },
  {
   "cell_type": "code",
   "execution_count": 39,
   "id": "51cc9e40-8807-40b5-a924-3cce9e0c31e4",
   "metadata": {},
   "outputs": [
    {
     "ename": "TypeError",
     "evalue": "unsupported operand type(s) for -: 'list' and 'int'",
     "output_type": "error",
     "traceback": [
      "\u001b[0;31m---------------------------------------------------------------------------\u001b[0m",
      "\u001b[0;31mTypeError\u001b[0m                                 Traceback (most recent call last)",
      "Cell \u001b[0;32mIn[39], line 1\u001b[0m\n\u001b[0;32m----> 1\u001b[0m \u001b[43ml1\u001b[49m\u001b[38;5;241;43m-\u001b[39;49m\u001b[38;5;241;43m3\u001b[39;49m\n",
      "\u001b[0;31mTypeError\u001b[0m: unsupported operand type(s) for -: 'list' and 'int'"
     ]
    }
   ],
   "source": [
    "l1-3"
   ]
  },
  {
   "cell_type": "code",
   "execution_count": 41,
   "id": "03cf8697-818c-462c-a4a7-2f63bc6649c0",
   "metadata": {},
   "outputs": [
    {
     "ename": "TypeError",
     "evalue": "can only concatenate list (not \"int\") to list",
     "output_type": "error",
     "traceback": [
      "\u001b[0;31m---------------------------------------------------------------------------\u001b[0m",
      "\u001b[0;31mTypeError\u001b[0m                                 Traceback (most recent call last)",
      "Cell \u001b[0;32mIn[41], line 1\u001b[0m\n\u001b[0;32m----> 1\u001b[0m \u001b[43ml1\u001b[49m\u001b[38;5;241;43m+\u001b[39;49m\u001b[38;5;241;43m3\u001b[39;49m\n",
      "\u001b[0;31mTypeError\u001b[0m: can only concatenate list (not \"int\") to list"
     ]
    }
   ],
   "source": [
    "l1+3"
   ]
  },
  {
   "cell_type": "code",
   "execution_count": 42,
   "id": "20d8f094-2aa7-4fb4-baab-6f9dd0875571",
   "metadata": {},
   "outputs": [
    {
     "data": {
      "text/plain": [
       "7"
      ]
     },
     "execution_count": 42,
     "metadata": {},
     "output_type": "execute_result"
    }
   ],
   "source": [
    "len(l)"
   ]
  },
  {
   "cell_type": "code",
   "execution_count": 46,
   "id": "fed81218-9c61-46cf-8193-29f5a81a05a1",
   "metadata": {},
   "outputs": [],
   "source": [
    "l.append(a)"
   ]
  },
  {
   "cell_type": "code",
   "execution_count": 47,
   "id": "1e862105-4257-433d-a7ea-e2c001dc1a5a",
   "metadata": {},
   "outputs": [],
   "source": [
    "l.append('a')"
   ]
  },
  {
   "cell_type": "code",
   "execution_count": 48,
   "id": "070ba701-bbe8-4516-8608-fbc368c12754",
   "metadata": {},
   "outputs": [
    {
     "name": "stdout",
     "output_type": "stream",
     "text": [
      "msg\n"
     ]
    }
   ],
   "source": [
    "print(a)"
   ]
  },
  {
   "cell_type": "code",
   "execution_count": 49,
   "id": "1ded1d28-482f-43eb-9c7c-0baba2b406c2",
   "metadata": {},
   "outputs": [
    {
     "name": "stdout",
     "output_type": "stream",
     "text": [
      "[2, 235, 35, 'abhi', True, (5+6j), 234.233, 5, 'a', 'msg', 'msg', 'a']\n"
     ]
    }
   ],
   "source": [
    "print(l)"
   ]
  },
  {
   "cell_type": "code",
   "execution_count": 50,
   "id": "f459d12f-f907-484a-a824-7ac26d81de96",
   "metadata": {},
   "outputs": [
    {
     "data": {
      "text/plain": [
       "[2, 235, 35, 'abhi', True, (5+6j), 234.233, 5, 'a', 'msg', 'msg', 'a']"
      ]
     },
     "execution_count": 50,
     "metadata": {},
     "output_type": "execute_result"
    }
   ],
   "source": [
    "l"
   ]
  },
  {
   "cell_type": "code",
   "execution_count": 51,
   "id": "686fe8ba-7f76-45a2-9008-f141b8d1f51d",
   "metadata": {},
   "outputs": [],
   "source": [
    "l.remove(a)"
   ]
  },
  {
   "cell_type": "code",
   "execution_count": 52,
   "id": "44fbff4c-c34b-4092-a163-eddbd9ab9291",
   "metadata": {},
   "outputs": [
    {
     "data": {
      "text/plain": [
       "[2, 235, 35, 'abhi', True, (5+6j), 234.233, 5, 'a', 'msg', 'a']"
      ]
     },
     "execution_count": 52,
     "metadata": {},
     "output_type": "execute_result"
    }
   ],
   "source": [
    "l"
   ]
  },
  {
   "cell_type": "code",
   "execution_count": 53,
   "id": "7f939da0-6bfe-4478-9efa-81af443114d8",
   "metadata": {},
   "outputs": [],
   "source": [
    "l.append(l1)"
   ]
  },
  {
   "cell_type": "code",
   "execution_count": 54,
   "id": "97ad30af-bfec-4608-8256-c84864c7488f",
   "metadata": {},
   "outputs": [
    {
     "data": {
      "text/plain": [
       "[2, 235, 35, 'abhi', True, (5+6j), 234.233, 5, 'a', 'msg', 'a', [1, 2, 3]]"
      ]
     },
     "execution_count": 54,
     "metadata": {},
     "output_type": "execute_result"
    }
   ],
   "source": [
    "l"
   ]
  },
  {
   "cell_type": "code",
   "execution_count": 1,
   "id": "f37dc0ed-998c-4956-bc7f-6c64833b7167",
   "metadata": {},
   "outputs": [
    {
     "ename": "NameError",
     "evalue": "name 'l' is not defined",
     "output_type": "error",
     "traceback": [
      "\u001b[0;31m---------------------------------------------------------------------------\u001b[0m",
      "\u001b[0;31mNameError\u001b[0m                                 Traceback (most recent call last)",
      "Cell \u001b[0;32mIn[1], line 1\u001b[0m\n\u001b[0;32m----> 1\u001b[0m \u001b[43ml\u001b[49m\u001b[38;5;241m.\u001b[39mappend(a)\n",
      "\u001b[0;31mNameError\u001b[0m: name 'l' is not defined"
     ]
    }
   ],
   "source": [
    "l.append(a)"
   ]
  },
  {
   "cell_type": "code",
   "execution_count": 2,
   "id": "0b2a82ca-e597-41f3-91a9-34f154bcd441",
   "metadata": {},
   "outputs": [
    {
     "ename": "NameError",
     "evalue": "name 'l' is not defined",
     "output_type": "error",
     "traceback": [
      "\u001b[0;31m---------------------------------------------------------------------------\u001b[0m",
      "\u001b[0;31mNameError\u001b[0m                                 Traceback (most recent call last)",
      "Cell \u001b[0;32mIn[2], line 1\u001b[0m\n\u001b[0;32m----> 1\u001b[0m \u001b[43ml\u001b[49m\n",
      "\u001b[0;31mNameError\u001b[0m: name 'l' is not defined"
     ]
    }
   ],
   "source": [
    "l"
   ]
  },
  {
   "cell_type": "code",
   "execution_count": 1,
   "id": "2c5e4c7f-3c66-4c7e-9a9f-1bddef52c4c0",
   "metadata": {},
   "outputs": [],
   "source": [
    "l=[2,235,35,\"abhi\",True,5+6j,234.233]"
   ]
  },
  {
   "cell_type": "code",
   "execution_count": 2,
   "id": "94a21109-2b12-47b1-9d6d-9c130886922e",
   "metadata": {},
   "outputs": [
    {
     "data": {
      "text/plain": [
       "[2, 235, 35, 'abhi', True, (5+6j), 234.233]"
      ]
     },
     "execution_count": 2,
     "metadata": {},
     "output_type": "execute_result"
    }
   ],
   "source": [
    "l"
   ]
  },
  {
   "cell_type": "code",
   "execution_count": 3,
   "id": "5c0210b0-449a-4784-86d5-e5abc7ed326f",
   "metadata": {},
   "outputs": [],
   "source": [
    "a=\"abhishek\""
   ]
  },
  {
   "cell_type": "code",
   "execution_count": 4,
   "id": "ee839502-e2b9-43d3-903e-5266816a2290",
   "metadata": {},
   "outputs": [],
   "source": [
    "l.append(a)"
   ]
  },
  {
   "cell_type": "code",
   "execution_count": 5,
   "id": "5015d4a9-56fb-427e-a07c-cfe8e75aadc3",
   "metadata": {},
   "outputs": [
    {
     "data": {
      "text/plain": [
       "[2, 235, 35, 'abhi', True, (5+6j), 234.233, 'abhishek']"
      ]
     },
     "execution_count": 5,
     "metadata": {},
     "output_type": "execute_result"
    }
   ],
   "source": [
    "l"
   ]
  },
  {
   "cell_type": "code",
   "execution_count": 6,
   "id": "48693eb3-470a-45e0-9c1d-76b64a010303",
   "metadata": {},
   "outputs": [],
   "source": [
    "l.append(46)"
   ]
  },
  {
   "cell_type": "code",
   "execution_count": 7,
   "id": "c9817d8c-7188-4c99-8a57-e14b636bd46d",
   "metadata": {},
   "outputs": [
    {
     "data": {
      "text/plain": [
       "[2, 235, 35, 'abhi', True, (5+6j), 234.233, 'abhishek', 46]"
      ]
     },
     "execution_count": 7,
     "metadata": {},
     "output_type": "execute_result"
    }
   ],
   "source": [
    "l"
   ]
  },
  {
   "cell_type": "code",
   "execution_count": 9,
   "id": "610f065a-6596-4fd4-8a84-eeceee76b961",
   "metadata": {},
   "outputs": [],
   "source": [
    "l1=['m',2,3]"
   ]
  },
  {
   "cell_type": "code",
   "execution_count": 10,
   "id": "4e84cf5e-b02e-43c5-af02-20beaa333f15",
   "metadata": {},
   "outputs": [],
   "source": [
    "l.append(l1)"
   ]
  },
  {
   "cell_type": "code",
   "execution_count": 11,
   "id": "a8ff2d22-2066-49ce-ae1f-da7b9c154210",
   "metadata": {},
   "outputs": [
    {
     "data": {
      "text/plain": [
       "[2, 235, 35, 'abhi', True, (5+6j), 234.233, 'abhishek', 46, ['m', 2, 3]]"
      ]
     },
     "execution_count": 11,
     "metadata": {},
     "output_type": "execute_result"
    }
   ],
   "source": [
    "l"
   ]
  },
  {
   "cell_type": "code",
   "execution_count": 12,
   "id": "79dafb6b-db10-43a7-b46e-108676bec9a6",
   "metadata": {},
   "outputs": [
    {
     "ename": "TypeError",
     "evalue": "list indices must be integers or slices, not list",
     "output_type": "error",
     "traceback": [
      "\u001b[0;31m---------------------------------------------------------------------------\u001b[0m",
      "\u001b[0;31mTypeError\u001b[0m                                 Traceback (most recent call last)",
      "Cell \u001b[0;32mIn[12], line 1\u001b[0m\n\u001b[0;32m----> 1\u001b[0m \u001b[43ml\u001b[49m\u001b[43m[\u001b[49m\u001b[43ml1\u001b[49m\u001b[43m]\u001b[49m[\u001b[38;5;241m0\u001b[39m:\u001b[38;5;241m2\u001b[39m]\n",
      "\u001b[0;31mTypeError\u001b[0m: list indices must be integers or slices, not list"
     ]
    }
   ],
   "source": [
    "l[l1][0:2]"
   ]
  },
  {
   "cell_type": "code",
   "execution_count": 14,
   "id": "e6542dca-ee45-4af3-90a7-cf8a191fd484",
   "metadata": {},
   "outputs": [
    {
     "data": {
      "text/plain": [
       "2"
      ]
     },
     "execution_count": 14,
     "metadata": {},
     "output_type": "execute_result"
    }
   ],
   "source": [
    "l[-1][1]"
   ]
  },
  {
   "cell_type": "code",
   "execution_count": 16,
   "id": "f7d91ac0-b55a-43e7-bb05-b3b379b30b19",
   "metadata": {},
   "outputs": [
    {
     "data": {
      "text/plain": [
       "[2, 235, 35, 'abhi', True, (5+6j), 234.233, 'abhishek']"
      ]
     },
     "execution_count": 16,
     "metadata": {},
     "output_type": "execute_result"
    }
   ],
   "source": [
    "l[0:8]"
   ]
  },
  {
   "cell_type": "code",
   "execution_count": 17,
   "id": "9518b659-0c55-4d47-a0a9-d0c6427a207d",
   "metadata": {},
   "outputs": [
    {
     "data": {
      "text/plain": [
       "['m', 2, 3]"
      ]
     },
     "execution_count": 17,
     "metadata": {},
     "output_type": "execute_result"
    }
   ],
   "source": [
    "l[-1]"
   ]
  },
  {
   "cell_type": "code",
   "execution_count": 18,
   "id": "91cb539a-15ec-486f-a9cc-07164ea7d213",
   "metadata": {},
   "outputs": [
    {
     "data": {
      "text/plain": [
       "3"
      ]
     },
     "execution_count": 18,
     "metadata": {},
     "output_type": "execute_result"
    }
   ],
   "source": [
    "l[-1][2]"
   ]
  },
  {
   "cell_type": "code",
   "execution_count": 19,
   "id": "db6bd663-4225-4317-aa9f-9779f141651c",
   "metadata": {},
   "outputs": [
    {
     "data": {
      "text/plain": [
       "'m'"
      ]
     },
     "execution_count": 19,
     "metadata": {},
     "output_type": "execute_result"
    }
   ],
   "source": [
    "l[-1][0]"
   ]
  },
  {
   "cell_type": "code",
   "execution_count": 20,
   "id": "84e59954-aa0e-47e9-9b6b-f6958a5218fc",
   "metadata": {},
   "outputs": [
    {
     "data": {
      "text/plain": [
       "[2, 235, 35, 'abhi', True, (5+6j), 234.233, 'abhishek', 46, ['m', 2, 3]]"
      ]
     },
     "execution_count": 20,
     "metadata": {},
     "output_type": "execute_result"
    }
   ],
   "source": [
    "l"
   ]
  },
  {
   "cell_type": "code",
   "execution_count": 21,
   "id": "65f69caf-94de-4322-8020-b7c63a85dc01",
   "metadata": {},
   "outputs": [
    {
     "ename": "TypeError",
     "evalue": "'int' object is not iterable",
     "output_type": "error",
     "traceback": [
      "\u001b[0;31m---------------------------------------------------------------------------\u001b[0m",
      "\u001b[0;31mTypeError\u001b[0m                                 Traceback (most recent call last)",
      "Cell \u001b[0;32mIn[21], line 1\u001b[0m\n\u001b[0;32m----> 1\u001b[0m \u001b[43ml\u001b[49m\u001b[38;5;241;43m.\u001b[39;49m\u001b[43mextend\u001b[49m\u001b[43m(\u001b[49m\u001b[38;5;241;43m56\u001b[39;49m\u001b[43m)\u001b[49m\n",
      "\u001b[0;31mTypeError\u001b[0m: 'int' object is not iterable"
     ]
    }
   ],
   "source": [
    "l.extend(56)"
   ]
  },
  {
   "cell_type": "code",
   "execution_count": 22,
   "id": "988fa11a-6747-4778-b980-d7416ba0189e",
   "metadata": {},
   "outputs": [],
   "source": [
    "l.extend(\"abhi\")"
   ]
  },
  {
   "cell_type": "code",
   "execution_count": 23,
   "id": "bdbc415f-9909-4cf2-9501-f4d66b3acf68",
   "metadata": {},
   "outputs": [
    {
     "data": {
      "text/plain": [
       "[2,\n",
       " 235,\n",
       " 35,\n",
       " 'abhi',\n",
       " True,\n",
       " (5+6j),\n",
       " 234.233,\n",
       " 'abhishek',\n",
       " 46,\n",
       " ['m', 2, 3],\n",
       " 'a',\n",
       " 'b',\n",
       " 'h',\n",
       " 'i']"
      ]
     },
     "execution_count": 23,
     "metadata": {},
     "output_type": "execute_result"
    }
   ],
   "source": [
    "l"
   ]
  },
  {
   "cell_type": "code",
   "execution_count": 24,
   "id": "eb07a537-7a79-4efd-8d3b-897fe81758cb",
   "metadata": {},
   "outputs": [],
   "source": [
    "l.extend([3,4,5])"
   ]
  },
  {
   "cell_type": "code",
   "execution_count": 25,
   "id": "045b41bb-fb32-48d8-ad85-a1d67310bc3f",
   "metadata": {},
   "outputs": [
    {
     "data": {
      "text/plain": [
       "[2,\n",
       " 235,\n",
       " 35,\n",
       " 'abhi',\n",
       " True,\n",
       " (5+6j),\n",
       " 234.233,\n",
       " 'abhishek',\n",
       " 46,\n",
       " ['m', 2, 3],\n",
       " 'a',\n",
       " 'b',\n",
       " 'h',\n",
       " 'i',\n",
       " 3,\n",
       " 4,\n",
       " 5]"
      ]
     },
     "execution_count": 25,
     "metadata": {},
     "output_type": "execute_result"
    }
   ],
   "source": [
    "l"
   ]
  },
  {
   "cell_type": "code",
   "execution_count": 26,
   "id": "d63916bc-d47a-4add-93bb-97bc70e4a4de",
   "metadata": {},
   "outputs": [
    {
     "data": {
      "text/plain": [
       "['m', 2, 3]"
      ]
     },
     "execution_count": 26,
     "metadata": {},
     "output_type": "execute_result"
    }
   ],
   "source": [
    "l1"
   ]
  },
  {
   "cell_type": "code",
   "execution_count": 28,
   "id": "d3d9a8b2-39d6-4a80-b9cd-49028267f973",
   "metadata": {},
   "outputs": [],
   "source": [
    "l1.insert(1,\"fly\")"
   ]
  },
  {
   "cell_type": "markdown",
   "id": "b893ed9e-a09d-4f83-aab5-15951e3c7df7",
   "metadata": {},
   "source": [
    "l1"
   ]
  },
  {
   "cell_type": "code",
   "execution_count": 29,
   "id": "3ea9a164-72ae-4a08-aef3-e723e57bdf54",
   "metadata": {},
   "outputs": [
    {
     "data": {
      "text/plain": [
       "['m', 'fly', 2, 3]"
      ]
     },
     "execution_count": 29,
     "metadata": {},
     "output_type": "execute_result"
    }
   ],
   "source": [
    "l1"
   ]
  },
  {
   "cell_type": "code",
   "execution_count": 30,
   "id": "0d4017ca-171e-434a-987f-b10ddca92891",
   "metadata": {},
   "outputs": [],
   "source": [
    "l1.insert(2,[5,8,7])"
   ]
  },
  {
   "cell_type": "code",
   "execution_count": 31,
   "id": "bd4ff76d-fd78-4d5e-a43e-8f60eeb35404",
   "metadata": {},
   "outputs": [
    {
     "data": {
      "text/plain": [
       "['m', 'fly', [5, 8, 7], 2, 3]"
      ]
     },
     "execution_count": 31,
     "metadata": {},
     "output_type": "execute_result"
    }
   ],
   "source": [
    "l1"
   ]
  },
  {
   "cell_type": "code",
   "execution_count": 32,
   "id": "7f002363-bf31-4200-9d2e-ca10f2479fce",
   "metadata": {},
   "outputs": [],
   "source": [
    "l1.insert(0,\"sky\")"
   ]
  },
  {
   "cell_type": "code",
   "execution_count": 33,
   "id": "f67f2fbe-0bd7-4640-9768-9b34df524867",
   "metadata": {},
   "outputs": [
    {
     "data": {
      "text/plain": [
       "['sky', 'm', 'fly', [5, 8, 7], 2, 3]"
      ]
     },
     "execution_count": 33,
     "metadata": {},
     "output_type": "execute_result"
    }
   ],
   "source": [
    "l1"
   ]
  },
  {
   "cell_type": "code",
   "execution_count": 34,
   "id": "f23302a5-c061-4cfe-aac5-be4afeb548d1",
   "metadata": {},
   "outputs": [],
   "source": [
    "l1.insert(-1,45)"
   ]
  },
  {
   "cell_type": "code",
   "execution_count": 35,
   "id": "ac3a4dfe-c029-40f3-91db-1ff33b94fd11",
   "metadata": {},
   "outputs": [
    {
     "data": {
      "text/plain": [
       "['sky', 'm', 'fly', [5, 8, 7], 2, 45, 3]"
      ]
     },
     "execution_count": 35,
     "metadata": {},
     "output_type": "execute_result"
    }
   ],
   "source": [
    "l1"
   ]
  },
  {
   "cell_type": "code",
   "execution_count": 43,
   "id": "b301e09c-77d1-42e8-9051-e95e80e1e634",
   "metadata": {},
   "outputs": [
    {
     "data": {
      "text/plain": [
       "['sky', 'm', [5, 8, 7], 2]"
      ]
     },
     "execution_count": 43,
     "metadata": {},
     "output_type": "execute_result"
    }
   ],
   "source": [
    "l1[0:8]"
   ]
  },
  {
   "cell_type": "code",
   "execution_count": 37,
   "id": "68163b9b-ff26-4565-9b79-0d8e968bc203",
   "metadata": {},
   "outputs": [
    {
     "data": {
      "text/plain": [
       "3"
      ]
     },
     "execution_count": 37,
     "metadata": {},
     "output_type": "execute_result"
    }
   ],
   "source": [
    "l1.pop()"
   ]
  },
  {
   "cell_type": "code",
   "execution_count": 38,
   "id": "a5f5fc9a-270b-44ca-bc2d-4bf4ee8531c7",
   "metadata": {},
   "outputs": [
    {
     "data": {
      "text/plain": [
       "['sky', 'm', 'fly', [5, 8, 7], 2, 45]"
      ]
     },
     "execution_count": 38,
     "metadata": {},
     "output_type": "execute_result"
    }
   ],
   "source": [
    "l1"
   ]
  },
  {
   "cell_type": "code",
   "execution_count": 39,
   "id": "00e7e7ff-231c-4b44-8c47-dcbed8d7a2c4",
   "metadata": {},
   "outputs": [
    {
     "data": {
      "text/plain": [
       "45"
      ]
     },
     "execution_count": 39,
     "metadata": {},
     "output_type": "execute_result"
    }
   ],
   "source": [
    "l1.pop()"
   ]
  },
  {
   "cell_type": "code",
   "execution_count": 40,
   "id": "b0b9c72e-b8c4-468e-af64-bfbdd7b70269",
   "metadata": {},
   "outputs": [
    {
     "data": {
      "text/plain": [
       "'fly'"
      ]
     },
     "execution_count": 40,
     "metadata": {},
     "output_type": "execute_result"
    }
   ],
   "source": [
    "l1.pop(2)"
   ]
  },
  {
   "cell_type": "code",
   "execution_count": 41,
   "id": "c67755aa-1d10-4dd0-9871-64177992459a",
   "metadata": {},
   "outputs": [
    {
     "data": {
      "text/plain": [
       "['sky', 'm', [5, 8, 7], 2]"
      ]
     },
     "execution_count": 41,
     "metadata": {},
     "output_type": "execute_result"
    }
   ],
   "source": [
    "l1"
   ]
  },
  {
   "cell_type": "code",
   "execution_count": 44,
   "id": "7cb70c0c-b132-4d30-aa29-a1776e25ffc1",
   "metadata": {},
   "outputs": [
    {
     "data": {
      "text/plain": [
       "2"
      ]
     },
     "execution_count": 44,
     "metadata": {},
     "output_type": "execute_result"
    }
   ],
   "source": [
    "l1.pop(3)"
   ]
  },
  {
   "cell_type": "code",
   "execution_count": 45,
   "id": "f64610dd-ab3a-4820-a52f-6f13a745b225",
   "metadata": {},
   "outputs": [],
   "source": [
    "l1.insert(2,2)"
   ]
  },
  {
   "cell_type": "code",
   "execution_count": 46,
   "id": "34d7c482-faae-4c9e-9659-0c1c273da9bd",
   "metadata": {},
   "outputs": [
    {
     "data": {
      "text/plain": [
       "['sky', 'm', 2, [5, 8, 7]]"
      ]
     },
     "execution_count": 46,
     "metadata": {},
     "output_type": "execute_result"
    }
   ],
   "source": [
    "l1"
   ]
  },
  {
   "cell_type": "code",
   "execution_count": 47,
   "id": "ecd47581-6bc6-46a7-a15e-6df7a2f7d72d",
   "metadata": {},
   "outputs": [
    {
     "data": {
      "text/plain": [
       "2"
      ]
     },
     "execution_count": 47,
     "metadata": {},
     "output_type": "execute_result"
    }
   ],
   "source": [
    "l1.pop(2)"
   ]
  },
  {
   "cell_type": "code",
   "execution_count": 48,
   "id": "5a7c021e-1faf-4178-a2dc-5bac65f02594",
   "metadata": {},
   "outputs": [
    {
     "data": {
      "text/plain": [
       "['sky', 'm', [5, 8, 7]]"
      ]
     },
     "execution_count": 48,
     "metadata": {},
     "output_type": "execute_result"
    }
   ],
   "source": [
    "l1"
   ]
  },
  {
   "cell_type": "code",
   "execution_count": 49,
   "id": "3c9fa94a-bfe7-4a02-8782-baa5d0e5b709",
   "metadata": {},
   "outputs": [
    {
     "ename": "ValueError",
     "evalue": "list.remove(x): x not in list",
     "output_type": "error",
     "traceback": [
      "\u001b[0;31m---------------------------------------------------------------------------\u001b[0m",
      "\u001b[0;31mValueError\u001b[0m                                Traceback (most recent call last)",
      "Cell \u001b[0;32mIn[49], line 1\u001b[0m\n\u001b[0;32m----> 1\u001b[0m \u001b[43ml1\u001b[49m\u001b[38;5;241;43m.\u001b[39;49m\u001b[43mremove\u001b[49m\u001b[43m(\u001b[49m\u001b[38;5;241;43m8\u001b[39;49m\u001b[43m)\u001b[49m\n",
      "\u001b[0;31mValueError\u001b[0m: list.remove(x): x not in list"
     ]
    }
   ],
   "source": [
    "l1.remove(8)"
   ]
  },
  {
   "cell_type": "code",
   "execution_count": 51,
   "id": "4bc57f63-7061-4641-9616-5ebaba9e7bbf",
   "metadata": {},
   "outputs": [],
   "source": [
    "l1.remove('m')"
   ]
  },
  {
   "cell_type": "code",
   "execution_count": 52,
   "id": "09150f0f-834c-4bbc-8dd9-a56d72ccecf2",
   "metadata": {},
   "outputs": [
    {
     "data": {
      "text/plain": [
       "['sky', [5, 8, 7]]"
      ]
     },
     "execution_count": 52,
     "metadata": {},
     "output_type": "execute_result"
    }
   ],
   "source": [
    "l1"
   ]
  },
  {
   "cell_type": "code",
   "execution_count": 54,
   "id": "fde4df19-6dda-46b8-b8c0-9a285581b014",
   "metadata": {},
   "outputs": [
    {
     "ename": "TypeError",
     "evalue": "list.remove() takes exactly one argument (2 given)",
     "output_type": "error",
     "traceback": [
      "\u001b[0;31m---------------------------------------------------------------------------\u001b[0m",
      "\u001b[0;31mTypeError\u001b[0m                                 Traceback (most recent call last)",
      "Cell \u001b[0;32mIn[54], line 1\u001b[0m\n\u001b[0;32m----> 1\u001b[0m \u001b[43ml1\u001b[49m\u001b[38;5;241;43m.\u001b[39;49m\u001b[43mremove\u001b[49m\u001b[43m(\u001b[49m\u001b[38;5;241;43m1\u001b[39;49m\u001b[43m,\u001b[49m\u001b[38;5;241;43m8\u001b[39;49m\u001b[43m)\u001b[49m\n",
      "\u001b[0;31mTypeError\u001b[0m: list.remove() takes exactly one argument (2 given)"
     ]
    }
   ],
   "source": [
    "l1.remove(1,8)"
   ]
  },
  {
   "cell_type": "code",
   "execution_count": 55,
   "id": "5847de2c-a197-4e35-ac49-7ea07217d5b7",
   "metadata": {},
   "outputs": [
    {
     "data": {
      "text/plain": [
       "[5, 8, 7]"
      ]
     },
     "execution_count": 55,
     "metadata": {},
     "output_type": "execute_result"
    }
   ],
   "source": [
    "l1[1]"
   ]
  },
  {
   "cell_type": "code",
   "execution_count": 57,
   "id": "3f33943d-e729-4ab1-ace1-fd04daa65f1f",
   "metadata": {},
   "outputs": [],
   "source": [
    "l1[1].remove(8)"
   ]
  },
  {
   "cell_type": "code",
   "execution_count": 58,
   "id": "a7bd9545-b06e-4a60-aeda-ca6e77f95c4c",
   "metadata": {},
   "outputs": [
    {
     "data": {
      "text/plain": [
       "['sky', [5, 7]]"
      ]
     },
     "execution_count": 58,
     "metadata": {},
     "output_type": "execute_result"
    }
   ],
   "source": [
    "l1"
   ]
  },
  {
   "cell_type": "code",
   "execution_count": 59,
   "id": "0fdd7907-5e7e-43a1-896b-1e520805cfbd",
   "metadata": {},
   "outputs": [
    {
     "data": {
      "text/plain": [
       "'sky'"
      ]
     },
     "execution_count": 59,
     "metadata": {},
     "output_type": "execute_result"
    }
   ],
   "source": [
    "l1[0]"
   ]
  },
  {
   "cell_type": "code",
   "execution_count": 61,
   "id": "9764c86c-b4d7-4789-b0e6-e6eb0959bc56",
   "metadata": {},
   "outputs": [
    {
     "ename": "AttributeError",
     "evalue": "'str' object has no attribute 'remove'",
     "output_type": "error",
     "traceback": [
      "\u001b[0;31m---------------------------------------------------------------------------\u001b[0m",
      "\u001b[0;31mAttributeError\u001b[0m                            Traceback (most recent call last)",
      "Cell \u001b[0;32mIn[61], line 1\u001b[0m\n\u001b[0;32m----> 1\u001b[0m \u001b[43ml1\u001b[49m\u001b[43m[\u001b[49m\u001b[38;5;241;43m0\u001b[39;49m\u001b[43m]\u001b[49m\u001b[38;5;241;43m.\u001b[39;49m\u001b[43mremove\u001b[49m(s)\n",
      "\u001b[0;31mAttributeError\u001b[0m: 'str' object has no attribute 'remove'"
     ]
    }
   ],
   "source": [
    "l1[0].remove(s)"
   ]
  },
  {
   "cell_type": "code",
   "execution_count": 62,
   "id": "688f3937-cf80-4468-9ec6-81dc625b54ee",
   "metadata": {},
   "outputs": [
    {
     "data": {
      "text/plain": [
       "\"['sky', [5, 7]]\""
      ]
     },
     "execution_count": 62,
     "metadata": {},
     "output_type": "execute_result"
    }
   ],
   "source": [
    "str(l1)"
   ]
  },
  {
   "cell_type": "code",
   "execution_count": 65,
   "id": "6be96992-ad40-4ec5-b310-126f4092416a",
   "metadata": {},
   "outputs": [
    {
     "ename": "AttributeError",
     "evalue": "'str' object has no attribute 'remove'",
     "output_type": "error",
     "traceback": [
      "\u001b[0;31m---------------------------------------------------------------------------\u001b[0m",
      "\u001b[0;31mAttributeError\u001b[0m                            Traceback (most recent call last)",
      "Cell \u001b[0;32mIn[65], line 1\u001b[0m\n\u001b[0;32m----> 1\u001b[0m \u001b[43ml1\u001b[49m\u001b[43m[\u001b[49m\u001b[38;5;241;43m0\u001b[39;49m\u001b[43m]\u001b[49m\u001b[38;5;241;43m.\u001b[39;49m\u001b[43mremove\u001b[49m(\u001b[38;5;124m'\u001b[39m\u001b[38;5;124ms\u001b[39m\u001b[38;5;124m'\u001b[39m)\n",
      "\u001b[0;31mAttributeError\u001b[0m: 'str' object has no attribute 'remove'"
     ]
    }
   ],
   "source": [
    "l1[0].remove('s')"
   ]
  },
  {
   "cell_type": "code",
   "execution_count": 66,
   "id": "45d81b56-5a16-4c75-9579-914dce4f75e3",
   "metadata": {},
   "outputs": [
    {
     "data": {
      "text/plain": [
       "['sky', [5, 7]]"
      ]
     },
     "execution_count": 66,
     "metadata": {},
     "output_type": "execute_result"
    }
   ],
   "source": [
    "l1"
   ]
  },
  {
   "cell_type": "code",
   "execution_count": 67,
   "id": "a578c542-78d3-45a5-ba15-c3c71da3d766",
   "metadata": {},
   "outputs": [
    {
     "data": {
      "text/plain": [
       "['sky', [5, 7]]"
      ]
     },
     "execution_count": 67,
     "metadata": {},
     "output_type": "execute_result"
    }
   ],
   "source": [
    "list(l1)"
   ]
  },
  {
   "cell_type": "code",
   "execution_count": 68,
   "id": "6cff8117-66c8-46c8-b2e5-c5efb34c5bf1",
   "metadata": {},
   "outputs": [
    {
     "data": {
      "text/plain": [
       "[[5, 7], 'sky']"
      ]
     },
     "execution_count": 68,
     "metadata": {},
     "output_type": "execute_result"
    }
   ],
   "source": [
    "l1[::-1]"
   ]
  },
  {
   "cell_type": "code",
   "execution_count": 69,
   "id": "7c09a5d2-8aea-412f-8685-7292e40232fb",
   "metadata": {},
   "outputs": [
    {
     "data": {
      "text/plain": [
       "['sky', [5, 7]]"
      ]
     },
     "execution_count": 69,
     "metadata": {},
     "output_type": "execute_result"
    }
   ],
   "source": [
    "l1[::]"
   ]
  },
  {
   "cell_type": "code",
   "execution_count": 70,
   "id": "9289a45f-a628-4520-970a-166a3ee57415",
   "metadata": {},
   "outputs": [],
   "source": [
    "l1.reverse()"
   ]
  },
  {
   "cell_type": "code",
   "execution_count": 71,
   "id": "03f100ae-27d0-4602-8fed-63edcceb5c72",
   "metadata": {},
   "outputs": [
    {
     "data": {
      "text/plain": [
       "[[5, 7], 'sky']"
      ]
     },
     "execution_count": 71,
     "metadata": {},
     "output_type": "execute_result"
    }
   ],
   "source": [
    "l1"
   ]
  },
  {
   "cell_type": "code",
   "execution_count": 72,
   "id": "50c67284-6907-4d14-9074-559a3990ce6a",
   "metadata": {},
   "outputs": [],
   "source": [
    "l2=[1,25,85,69,3,4,5,6]"
   ]
  },
  {
   "cell_type": "code",
   "execution_count": 73,
   "id": "4fae57fc-27fc-4b95-9a2b-4564fd5abfb7",
   "metadata": {},
   "outputs": [
    {
     "data": {
      "text/plain": [
       "[1, 2, 3, 4, 5, 6]"
      ]
     },
     "execution_count": 73,
     "metadata": {},
     "output_type": "execute_result"
    }
   ],
   "source": [
    "l2"
   ]
  },
  {
   "cell_type": "code",
   "execution_count": 76,
   "id": "e2114242-0000-495d-b060-eb6f444620a8",
   "metadata": {},
   "outputs": [],
   "source": [
    "l2.sort()"
   ]
  },
  {
   "cell_type": "code",
   "execution_count": 77,
   "id": "0a3a6a80-43c4-4e36-86fd-3f90bfa63567",
   "metadata": {},
   "outputs": [
    {
     "data": {
      "text/plain": [
       "[1, 2, 3, 4, 5, 6]"
      ]
     },
     "execution_count": 77,
     "metadata": {},
     "output_type": "execute_result"
    }
   ],
   "source": [
    "l2"
   ]
  },
  {
   "cell_type": "code",
   "execution_count": 78,
   "id": "494e9b68-6520-423f-9db7-58c229bc0af4",
   "metadata": {},
   "outputs": [],
   "source": [
    "l2.sort()"
   ]
  },
  {
   "cell_type": "code",
   "execution_count": 79,
   "id": "b6d0ffe8-cdc0-4e63-9b2e-b66c092e516a",
   "metadata": {},
   "outputs": [
    {
     "data": {
      "text/plain": [
       "[1, 2, 3, 4, 5, 6]"
      ]
     },
     "execution_count": 79,
     "metadata": {},
     "output_type": "execute_result"
    }
   ],
   "source": [
    "l2"
   ]
  },
  {
   "cell_type": "code",
   "execution_count": 80,
   "id": "1e6fea31-70ad-4b9d-88ed-225aff63c69f",
   "metadata": {},
   "outputs": [],
   "source": [
    "l2=[1,25,85,69,3,4,5,6]"
   ]
  },
  {
   "cell_type": "code",
   "execution_count": 81,
   "id": "847ff2da-63f5-4789-abda-4671f2690bb8",
   "metadata": {},
   "outputs": [
    {
     "data": {
      "text/plain": [
       "[1, 25, 85, 69, 3, 4, 5, 6]"
      ]
     },
     "execution_count": 81,
     "metadata": {},
     "output_type": "execute_result"
    }
   ],
   "source": [
    "l2"
   ]
  },
  {
   "cell_type": "code",
   "execution_count": 82,
   "id": "a5912107-e124-4c66-91a8-4776ab811dde",
   "metadata": {},
   "outputs": [],
   "source": [
    "l2.sort()"
   ]
  },
  {
   "cell_type": "code",
   "execution_count": 83,
   "id": "6e8cccaf-fe43-4452-9140-1d30de472bcb",
   "metadata": {},
   "outputs": [
    {
     "data": {
      "text/plain": [
       "[1, 3, 4, 5, 6, 25, 69, 85]"
      ]
     },
     "execution_count": 83,
     "metadata": {},
     "output_type": "execute_result"
    }
   ],
   "source": [
    "l2"
   ]
  },
  {
   "cell_type": "code",
   "execution_count": 84,
   "id": "6757fe50-cebc-4619-9611-37bd8070469a",
   "metadata": {},
   "outputs": [],
   "source": [
    "l3=[\"science\",\"english\",\"maths\"]"
   ]
  },
  {
   "cell_type": "code",
   "execution_count": 85,
   "id": "5e2f8177-3858-4052-a36d-86d3c3d0847f",
   "metadata": {},
   "outputs": [],
   "source": [
    "l3.sort()"
   ]
  },
  {
   "cell_type": "code",
   "execution_count": 86,
   "id": "ad6ec7d4-a16d-40ce-b7f1-b92597b5f1b1",
   "metadata": {},
   "outputs": [
    {
     "data": {
      "text/plain": [
       "['english', 'maths', 'science']"
      ]
     },
     "execution_count": 86,
     "metadata": {},
     "output_type": "execute_result"
    }
   ],
   "source": [
    "l3"
   ]
  },
  {
   "cell_type": "code",
   "execution_count": 87,
   "id": "51017666-7f23-4490-91f0-6248e4b7f96f",
   "metadata": {},
   "outputs": [],
   "source": [
    "l3.sort(reverse=True)"
   ]
  },
  {
   "cell_type": "code",
   "execution_count": 88,
   "id": "cd001d4b-c8e9-4a9b-8dfe-0f7b02b47529",
   "metadata": {},
   "outputs": [
    {
     "data": {
      "text/plain": [
       "['science', 'maths', 'english']"
      ]
     },
     "execution_count": 88,
     "metadata": {},
     "output_type": "execute_result"
    }
   ],
   "source": [
    "l3"
   ]
  },
  {
   "cell_type": "code",
   "execution_count": 89,
   "id": "f058976e-7989-4ed0-ab0a-0799ac0bb6e8",
   "metadata": {},
   "outputs": [],
   "source": [
    "l2.sort(reverse=False)"
   ]
  },
  {
   "cell_type": "code",
   "execution_count": 90,
   "id": "bf3c16bf-3a60-40b1-bc30-a92f8bf91e0b",
   "metadata": {},
   "outputs": [
    {
     "data": {
      "text/plain": [
       "[1, 3, 4, 5, 6, 25, 69, 85]"
      ]
     },
     "execution_count": 90,
     "metadata": {},
     "output_type": "execute_result"
    }
   ],
   "source": [
    "l2"
   ]
  },
  {
   "cell_type": "code",
   "execution_count": 91,
   "id": "316500b8-573f-4320-8295-3e40a065a676",
   "metadata": {},
   "outputs": [
    {
     "data": {
      "text/plain": [
       "1"
      ]
     },
     "execution_count": 91,
     "metadata": {},
     "output_type": "execute_result"
    }
   ],
   "source": [
    "l3.index(\"maths\")"
   ]
  },
  {
   "cell_type": "code",
   "execution_count": 93,
   "id": "f1ea0e9a-31fd-4f9a-bc84-f89afc2c8f4c",
   "metadata": {},
   "outputs": [
    {
     "data": {
      "text/plain": [
       "1"
      ]
     },
     "execution_count": 93,
     "metadata": {},
     "output_type": "execute_result"
    }
   ],
   "source": [
    "l3.count(\"english\")"
   ]
  },
  {
   "cell_type": "code",
   "execution_count": 94,
   "id": "c93f8260-43c1-4ee6-915b-91cf22f5c617",
   "metadata": {},
   "outputs": [
    {
     "ename": "AttributeError",
     "evalue": "'list' object has no attribute 'find'",
     "output_type": "error",
     "traceback": [
      "\u001b[0;31m---------------------------------------------------------------------------\u001b[0m",
      "\u001b[0;31mAttributeError\u001b[0m                            Traceback (most recent call last)",
      "Cell \u001b[0;32mIn[94], line 1\u001b[0m\n\u001b[0;32m----> 1\u001b[0m \u001b[43ml3\u001b[49m\u001b[38;5;241;43m.\u001b[39;49m\u001b[43mfind\u001b[49m(\u001b[38;5;124m\"\u001b[39m\u001b[38;5;124men\u001b[39m\u001b[38;5;124m\"\u001b[39m)\n",
      "\u001b[0;31mAttributeError\u001b[0m: 'list' object has no attribute 'find'"
     ]
    }
   ],
   "source": [
    "l3.find(\"en\")"
   ]
  },
  {
   "cell_type": "code",
   "execution_count": 96,
   "id": "ea7867eb-fbec-4620-b37a-2f2f795a942e",
   "metadata": {},
   "outputs": [
    {
     "ename": "AttributeError",
     "evalue": "'list' object has no attribute 'find'",
     "output_type": "error",
     "traceback": [
      "\u001b[0;31m---------------------------------------------------------------------------\u001b[0m",
      "\u001b[0;31mAttributeError\u001b[0m                            Traceback (most recent call last)",
      "Cell \u001b[0;32mIn[96], line 1\u001b[0m\n\u001b[0;32m----> 1\u001b[0m \u001b[43ml3\u001b[49m\u001b[38;5;241;43m.\u001b[39;49m\u001b[43mfind\u001b[49m(\u001b[38;5;241m0\u001b[39m)\n",
      "\u001b[0;31mAttributeError\u001b[0m: 'list' object has no attribute 'find'"
     ]
    }
   ],
   "source": [
    "l3.find(0)"
   ]
  },
  {
   "cell_type": "code",
   "execution_count": 97,
   "id": "60b1e935-10a8-4cbc-95ff-e880930b8b17",
   "metadata": {},
   "outputs": [
    {
     "ename": "AttributeError",
     "evalue": "'list' object has no attribute 'find'",
     "output_type": "error",
     "traceback": [
      "\u001b[0;31m---------------------------------------------------------------------------\u001b[0m",
      "\u001b[0;31mAttributeError\u001b[0m                            Traceback (most recent call last)",
      "Cell \u001b[0;32mIn[97], line 1\u001b[0m\n\u001b[0;32m----> 1\u001b[0m \u001b[43ml3\u001b[49m\u001b[38;5;241;43m.\u001b[39;49m\u001b[43mfind\u001b[49m(\u001b[38;5;124m'\u001b[39m\u001b[38;5;124mm\u001b[39m\u001b[38;5;124m'\u001b[39m)\n",
      "\u001b[0;31mAttributeError\u001b[0m: 'list' object has no attribute 'find'"
     ]
    }
   ],
   "source": [
    "l3.find('m')"
   ]
  },
  {
   "cell_type": "code",
   "execution_count": 100,
   "id": "c606397d-288c-4831-a5f4-9a15e599b83c",
   "metadata": {},
   "outputs": [
    {
     "data": {
      "text/plain": [
       "1"
      ]
     },
     "execution_count": 100,
     "metadata": {},
     "output_type": "execute_result"
    }
   ],
   "source": [
    "l3.count('maths')"
   ]
  },
  {
   "cell_type": "code",
   "execution_count": 101,
   "id": "41a76353-c616-4ee9-8db1-606311cb80bd",
   "metadata": {},
   "outputs": [],
   "source": [
    "s=\"sudh\""
   ]
  },
  {
   "cell_type": "code",
   "execution_count": 102,
   "id": "6079c219-5ce8-4383-8b89-66d3dc6ec0ae",
   "metadata": {},
   "outputs": [
    {
     "data": {
      "text/plain": [
       "'sudh'"
      ]
     },
     "execution_count": 102,
     "metadata": {},
     "output_type": "execute_result"
    }
   ],
   "source": [
    "s"
   ]
  },
  {
   "cell_type": "code",
   "execution_count": 103,
   "id": "28b9c44c-fda6-4bdb-aae6-710a99d58b25",
   "metadata": {},
   "outputs": [],
   "source": [
    "l5=[2,5,56,45,7,4]"
   ]
  },
  {
   "cell_type": "code",
   "execution_count": 104,
   "id": "6d1f1778-6425-4a56-87b3-eda0a805639f",
   "metadata": {},
   "outputs": [
    {
     "data": {
      "text/plain": [
       "[2, 5, 56, 45, 7, 4]"
      ]
     },
     "execution_count": 104,
     "metadata": {},
     "output_type": "execute_result"
    }
   ],
   "source": [
    "l5"
   ]
  },
  {
   "cell_type": "code",
   "execution_count": 105,
   "id": "114c901c-8918-4293-8e96-1592ae8808d9",
   "metadata": {},
   "outputs": [
    {
     "data": {
      "text/plain": [
       "'s'"
      ]
     },
     "execution_count": 105,
     "metadata": {},
     "output_type": "execute_result"
    }
   ],
   "source": [
    "s[0]"
   ]
  },
  {
   "cell_type": "code",
   "execution_count": 107,
   "id": "97644d60-7a58-4d80-a498-55314c839be0",
   "metadata": {},
   "outputs": [],
   "source": [
    "l5[0]=30"
   ]
  },
  {
   "cell_type": "markdown",
   "id": "45ec2187-96c5-4935-b07c-8efda67854fb",
   "metadata": {},
   "source": [
    "##### "
   ]
  },
  {
   "cell_type": "code",
   "execution_count": 108,
   "id": "d4d7c860-63ad-49d5-8bac-6bbacf694e97",
   "metadata": {},
   "outputs": [
    {
     "data": {
      "text/plain": [
       "[30, 5, 56, 45, 7, 4]"
      ]
     },
     "execution_count": 108,
     "metadata": {},
     "output_type": "execute_result"
    }
   ],
   "source": [
    "l5"
   ]
  },
  {
   "cell_type": "code",
   "execution_count": 4,
   "id": "47ef413a-85ba-4179-a706-f3fb96fb4ae8",
   "metadata": {},
   "outputs": [],
   "source": [
    "s='sudh'"
   ]
  },
  {
   "cell_type": "code",
   "execution_count": 5,
   "id": "a273b64e-dc12-4230-8335-9a34b3535f32",
   "metadata": {},
   "outputs": [
    {
     "data": {
      "text/plain": [
       "'sudh'"
      ]
     },
     "execution_count": 5,
     "metadata": {},
     "output_type": "execute_result"
    }
   ],
   "source": [
    "s"
   ]
  },
  {
   "cell_type": "code",
   "execution_count": 6,
   "id": "98a7a0b2-41ee-4cab-86c8-43f17223ec02",
   "metadata": {},
   "outputs": [
    {
     "data": {
      "text/plain": [
       "'audh'"
      ]
     },
     "execution_count": 6,
     "metadata": {},
     "output_type": "execute_result"
    }
   ],
   "source": [
    "s.replace('s','a')"
   ]
  },
  {
   "cell_type": "code",
   "execution_count": 7,
   "id": "142dd059-3c5a-49af-896d-caae253450eb",
   "metadata": {},
   "outputs": [
    {
     "data": {
      "text/plain": [
       "'sudh'"
      ]
     },
     "execution_count": 7,
     "metadata": {},
     "output_type": "execute_result"
    }
   ],
   "source": [
    "s"
   ]
  },
  {
   "cell_type": "code",
   "execution_count": 8,
   "id": "cc75a34a-e8f9-4742-b427-984d4f3aa8d3",
   "metadata": {},
   "outputs": [],
   "source": [
    "t=(2,3,4,'abhi',[5,6,8],55+654j,False,45.58)"
   ]
  },
  {
   "cell_type": "code",
   "execution_count": 9,
   "id": "5cbadca8-129f-48e2-9405-6c1219a6367f",
   "metadata": {},
   "outputs": [
    {
     "data": {
      "text/plain": [
       "(2, 3, 4, 'abhi', [5, 6, 8], (55+654j), False, 45.58)"
      ]
     },
     "execution_count": 9,
     "metadata": {},
     "output_type": "execute_result"
    }
   ],
   "source": [
    "t"
   ]
  },
  {
   "cell_type": "code",
   "execution_count": 10,
   "id": "d1d5e8dd-c26a-4294-9e7d-505125be058c",
   "metadata": {},
   "outputs": [
    {
     "data": {
      "text/plain": [
       "tuple"
      ]
     },
     "execution_count": 10,
     "metadata": {},
     "output_type": "execute_result"
    }
   ],
   "source": [
    "type(t)"
   ]
  },
  {
   "cell_type": "code",
   "execution_count": 11,
   "id": "b63f89ae-e170-4004-8c62-6da0439841c3",
   "metadata": {},
   "outputs": [
    {
     "data": {
      "text/plain": [
       "8"
      ]
     },
     "execution_count": 11,
     "metadata": {},
     "output_type": "execute_result"
    }
   ],
   "source": [
    "len(t)"
   ]
  },
  {
   "cell_type": "code",
   "execution_count": 12,
   "id": "386177cb-ff47-4631-a367-edbd0a996dc8",
   "metadata": {},
   "outputs": [
    {
     "data": {
      "text/plain": [
       "45.58"
      ]
     },
     "execution_count": 12,
     "metadata": {},
     "output_type": "execute_result"
    }
   ],
   "source": [
    "t[-1]"
   ]
  },
  {
   "cell_type": "code",
   "execution_count": 13,
   "id": "6101dcac-b765-4528-b596-1a44f629c416",
   "metadata": {},
   "outputs": [
    {
     "data": {
      "text/plain": [
       "(45.58, False, (55+654j), [5, 6, 8], 'abhi', 4, 3, 2)"
      ]
     },
     "execution_count": 13,
     "metadata": {},
     "output_type": "execute_result"
    }
   ],
   "source": [
    "t[::-1]"
   ]
  },
  {
   "cell_type": "code",
   "execution_count": 14,
   "id": "8f983723-1e63-4014-80e3-165b7ccff849",
   "metadata": {},
   "outputs": [
    {
     "data": {
      "text/plain": [
       "1"
      ]
     },
     "execution_count": 14,
     "metadata": {},
     "output_type": "execute_result"
    }
   ],
   "source": [
    "t.count(False)"
   ]
  },
  {
   "cell_type": "code",
   "execution_count": 17,
   "id": "db51663c-3063-46cb-ba2b-a09c9dfda8b8",
   "metadata": {},
   "outputs": [
    {
     "data": {
      "text/plain": [
       "1"
      ]
     },
     "execution_count": 17,
     "metadata": {},
     "output_type": "execute_result"
    }
   ],
   "source": [
    "t.count('abhi')"
   ]
  },
  {
   "cell_type": "code",
   "execution_count": 18,
   "id": "76192fa7-2956-4ecc-90e7-9cdb370e638d",
   "metadata": {},
   "outputs": [
    {
     "data": {
      "text/plain": [
       "1"
      ]
     },
     "execution_count": 18,
     "metadata": {},
     "output_type": "execute_result"
    }
   ],
   "source": [
    "t.index(3)"
   ]
  },
  {
   "cell_type": "code",
   "execution_count": 19,
   "id": "7b197ba3-2b3d-457b-ba52-7633430e404b",
   "metadata": {},
   "outputs": [
    {
     "data": {
      "text/plain": [
       "3"
      ]
     },
     "execution_count": 19,
     "metadata": {},
     "output_type": "execute_result"
    }
   ],
   "source": [
    "t.index('abhi')"
   ]
  },
  {
   "cell_type": "code",
   "execution_count": 21,
   "id": "28160c47-e14c-4caf-83cc-9f2eed5f38f9",
   "metadata": {},
   "outputs": [
    {
     "data": {
      "text/plain": [
       "5"
      ]
     },
     "execution_count": 21,
     "metadata": {},
     "output_type": "execute_result"
    }
   ],
   "source": [
    "t.index(55+654j)"
   ]
  },
  {
   "cell_type": "code",
   "execution_count": 22,
   "id": "e0a318c0-3859-4bfe-ad39-52b387a1e2f8",
   "metadata": {},
   "outputs": [],
   "source": [
    "s={}"
   ]
  },
  {
   "cell_type": "code",
   "execution_count": 23,
   "id": "17000aaa-08aa-419c-88eb-ab8db9fa4a2f",
   "metadata": {},
   "outputs": [
    {
     "data": {
      "text/plain": [
       "{}"
      ]
     },
     "execution_count": 23,
     "metadata": {},
     "output_type": "execute_result"
    }
   ],
   "source": [
    "s"
   ]
  },
  {
   "cell_type": "code",
   "execution_count": 24,
   "id": "893c0533-8eab-4b79-84c6-bb9e6806446f",
   "metadata": {},
   "outputs": [
    {
     "data": {
      "text/plain": [
       "dict"
      ]
     },
     "execution_count": 24,
     "metadata": {},
     "output_type": "execute_result"
    }
   ],
   "source": [
    "type(s)"
   ]
  },
  {
   "cell_type": "code",
   "execution_count": 26,
   "id": "7ce18b06-ab73-4cec-82c1-528d76b0e564",
   "metadata": {},
   "outputs": [],
   "source": [
    "s={1,2,3,5,46,6,1,6,1,5,1,3,315,6,4,5,6,4,6}"
   ]
  },
  {
   "cell_type": "code",
   "execution_count": null,
   "id": "57918324-a0cd-49ab-a2b1-0d1b62eb00d7",
   "metadata": {},
   "outputs": [],
   "source": []
  },
  {
   "cell_type": "code",
   "execution_count": 27,
   "id": "930bdc7c-215a-44d5-8e8b-9531a355cbeb",
   "metadata": {},
   "outputs": [
    {
     "data": {
      "text/plain": [
       "{1, 2, 3, 4, 5, 6, 46, 315}"
      ]
     },
     "execution_count": 27,
     "metadata": {},
     "output_type": "execute_result"
    }
   ],
   "source": [
    "s"
   ]
  },
  {
   "cell_type": "code",
   "execution_count": 29,
   "id": "8f62b391-761c-4f22-9536-55af15b54d14",
   "metadata": {},
   "outputs": [],
   "source": [
    "s3={1,2,3,5,46,6,1,6,1,5,1,'sudh','Sudh'}"
   ]
  },
  {
   "cell_type": "code",
   "execution_count": 30,
   "id": "9d4bc628-4273-424d-a718-12f2c15d4911",
   "metadata": {},
   "outputs": [
    {
     "data": {
      "text/plain": [
       "{1, 2, 3, 46, 5, 6, 'Sudh', 'sudh'}"
      ]
     },
     "execution_count": 30,
     "metadata": {},
     "output_type": "execute_result"
    }
   ],
   "source": [
    "s3"
   ]
  },
  {
   "cell_type": "code",
   "execution_count": 31,
   "id": "da256026-58fd-42eb-9ec1-2763563432aa",
   "metadata": {},
   "outputs": [
    {
     "data": {
      "text/plain": [
       "set"
      ]
     },
     "execution_count": 31,
     "metadata": {},
     "output_type": "execute_result"
    }
   ],
   "source": [
    "type(s3)"
   ]
  },
  {
   "cell_type": "code",
   "execution_count": 32,
   "id": "9df359d9-4b23-4f94-85b7-57aad2c4310b",
   "metadata": {},
   "outputs": [],
   "source": [
    "l6=[0,23,2,5,4,6,7,8,9,2,5,5]"
   ]
  },
  {
   "cell_type": "code",
   "execution_count": 33,
   "id": "3ed02708-ed30-4cc8-b6f4-199b7c818f30",
   "metadata": {},
   "outputs": [
    {
     "data": {
      "text/plain": [
       "[0, 23, 2, 5, 4, 6, 7, 8, 9, 2, 5, 5]"
      ]
     },
     "execution_count": 33,
     "metadata": {},
     "output_type": "execute_result"
    }
   ],
   "source": [
    "l6"
   ]
  },
  {
   "cell_type": "code",
   "execution_count": 34,
   "id": "6d18ea95-e709-4b04-a0b8-16c65fb571a9",
   "metadata": {},
   "outputs": [
    {
     "data": {
      "text/plain": [
       "{0, 2, 4, 5, 6, 7, 8, 9, 23}"
      ]
     },
     "execution_count": 34,
     "metadata": {},
     "output_type": "execute_result"
    }
   ],
   "source": [
    "set(l6)"
   ]
  },
  {
   "cell_type": "code",
   "execution_count": 37,
   "id": "1db9cb11-4251-4b29-9bd5-7fcdf89fe4a2",
   "metadata": {},
   "outputs": [],
   "source": [
    "l6=set(l6)#list converts into set"
   ]
  },
  {
   "cell_type": "code",
   "execution_count": 36,
   "id": "5715dd06-7e1f-4b95-a266-6807afee6748",
   "metadata": {},
   "outputs": [
    {
     "data": {
      "text/plain": [
       "{0, 2, 4, 5, 6, 7, 8, 9, 23}"
      ]
     },
     "execution_count": 36,
     "metadata": {},
     "output_type": "execute_result"
    }
   ],
   "source": [
    "l6"
   ]
  },
  {
   "cell_type": "code",
   "execution_count": 40,
   "id": "ee96c312-a0b8-476c-aed3-2cd3ed2fd679",
   "metadata": {},
   "outputs": [],
   "source": [
    "l6=list(set(l6))#this concept follows typecasting which means set converts into list"
   ]
  },
  {
   "cell_type": "code",
   "execution_count": 39,
   "id": "e1017119-c115-42a9-8ff1-478e4f75ba6b",
   "metadata": {},
   "outputs": [
    {
     "data": {
      "text/plain": [
       "[0, 2, 4, 5, 6, 7, 8, 9, 23]"
      ]
     },
     "execution_count": 39,
     "metadata": {},
     "output_type": "execute_result"
    }
   ],
   "source": [
    "l6"
   ]
  },
  {
   "cell_type": "code",
   "execution_count": 41,
   "id": "ad68ec9a-69e7-4215-8879-7bb21208bf7a",
   "metadata": {},
   "outputs": [
    {
     "data": {
      "text/plain": [
       "set"
      ]
     },
     "execution_count": 41,
     "metadata": {},
     "output_type": "execute_result"
    }
   ],
   "source": [
    "type(s3)"
   ]
  },
  {
   "cell_type": "code",
   "execution_count": 42,
   "id": "81f293b7-87d4-44c9-bfe3-4eff8246cad9",
   "metadata": {},
   "outputs": [
    {
     "data": {
      "text/plain": [
       "list"
      ]
     },
     "execution_count": 42,
     "metadata": {},
     "output_type": "execute_result"
    }
   ],
   "source": [
    "type(l6)"
   ]
  },
  {
   "cell_type": "code",
   "execution_count": 43,
   "id": "ec46af5f-60c3-4cf2-b896-14f470e74cc2",
   "metadata": {},
   "outputs": [],
   "source": [
    "s3.add(6)"
   ]
  },
  {
   "cell_type": "code",
   "execution_count": 44,
   "id": "2e5bf2f3-2732-4b1c-8bd1-d020615fdbc4",
   "metadata": {},
   "outputs": [
    {
     "data": {
      "text/plain": [
       "{1, 2, 3, 46, 5, 6, 'Sudh', 'sudh'}"
      ]
     },
     "execution_count": 44,
     "metadata": {},
     "output_type": "execute_result"
    }
   ],
   "source": [
    "s3"
   ]
  },
  {
   "cell_type": "code",
   "execution_count": 45,
   "id": "14c10d77-8d51-4121-96f6-fcc522f5678d",
   "metadata": {},
   "outputs": [],
   "source": [
    "s3.remove(46)"
   ]
  },
  {
   "cell_type": "code",
   "execution_count": 46,
   "id": "e33a2a33-d6a9-4bdc-8f06-4cf0e4a23e79",
   "metadata": {},
   "outputs": [
    {
     "data": {
      "text/plain": [
       "{1, 2, 3, 5, 6, 'Sudh', 'sudh'}"
      ]
     },
     "execution_count": 46,
     "metadata": {},
     "output_type": "execute_result"
    }
   ],
   "source": [
    "s3"
   ]
  },
  {
   "cell_type": "code",
   "execution_count": 47,
   "id": "5b95ba3f-f76a-4b08-9aac-43bdaf8366ed",
   "metadata": {},
   "outputs": [],
   "source": [
    "d1='abhi'"
   ]
  },
  {
   "cell_type": "code",
   "execution_count": 48,
   "id": "1d07f3d9-771d-4c7d-b2d5-41b7c2e5982f",
   "metadata": {},
   "outputs": [
    {
     "data": {
      "text/plain": [
       "'abhi'"
      ]
     },
     "execution_count": 48,
     "metadata": {},
     "output_type": "execute_result"
    }
   ],
   "source": [
    "d1"
   ]
  },
  {
   "cell_type": "code",
   "execution_count": 51,
   "id": "aee85849-98ea-460f-ba9a-04f8d2f40512",
   "metadata": {},
   "outputs": [
    {
     "data": {
      "text/plain": [
       "['a', 'b', 'h', 'i']"
      ]
     },
     "execution_count": 51,
     "metadata": {},
     "output_type": "execute_result"
    }
   ],
   "source": [
    "list(d1)"
   ]
  },
  {
   "cell_type": "code",
   "execution_count": 53,
   "id": "4e77e121-f96a-4bd0-8816-dfc2dc891996",
   "metadata": {},
   "outputs": [],
   "source": [
    "l6.insert(3,list(d1))"
   ]
  },
  {
   "cell_type": "code",
   "execution_count": 54,
   "id": "07c64b71-8133-48f3-96bc-6a70ddf6170a",
   "metadata": {},
   "outputs": [
    {
     "data": {
      "text/plain": [
       "[0, 2, 4, ['a', 'b', 'h', 'i'], 5, 6, 7, 8, 9, 23]"
      ]
     },
     "execution_count": 54,
     "metadata": {},
     "output_type": "execute_result"
    }
   ],
   "source": [
    "l6"
   ]
  },
  {
   "cell_type": "code",
   "execution_count": 55,
   "id": "4927b162-8e2a-4d3c-959f-f828b7c61617",
   "metadata": {},
   "outputs": [],
   "source": [
    "l6.insert(3,d1)"
   ]
  },
  {
   "cell_type": "code",
   "execution_count": 56,
   "id": "5ff722ae-831b-4c1a-a7b1-6104b595cfd8",
   "metadata": {},
   "outputs": [
    {
     "data": {
      "text/plain": [
       "[0, 2, 4, 'abhi', ['a', 'b', 'h', 'i'], 5, 6, 7, 8, 9, 23]"
      ]
     },
     "execution_count": 56,
     "metadata": {},
     "output_type": "execute_result"
    }
   ],
   "source": [
    "l6"
   ]
  },
  {
   "cell_type": "code",
   "execution_count": 57,
   "id": "206eda4f-9954-497f-8303-4b98f51084ec",
   "metadata": {},
   "outputs": [],
   "source": [
    "d2={'name':'abhishek','email':'abh@gmail.com','phn_no.':9895624578}"
   ]
  },
  {
   "cell_type": "code",
   "execution_count": 58,
   "id": "7bbca0bf-b98e-4af5-8a4c-cc79b3fc8a6d",
   "metadata": {},
   "outputs": [
    {
     "data": {
      "text/plain": [
       "{'name': 'abhishek', 'email': 'abh@gmail.com', 'phn_no.': 9895624578}"
      ]
     },
     "execution_count": 58,
     "metadata": {},
     "output_type": "execute_result"
    }
   ],
   "source": [
    "d2"
   ]
  },
  {
   "cell_type": "code",
   "execution_count": 59,
   "id": "b6b91efd-0fba-4fbf-9212-4e841582acbc",
   "metadata": {},
   "outputs": [],
   "source": [
    "d3={'name':'sudh','@city':'bhopal',2345:\"sharma\"}"
   ]
  },
  {
   "cell_type": "code",
   "execution_count": 60,
   "id": "7796f0b6-d7c4-4814-88b4-e86ad16936de",
   "metadata": {},
   "outputs": [
    {
     "data": {
      "text/plain": [
       "{'name': 'sudh', '@city': 'bhopal', 2345: 'sharma'}"
      ]
     },
     "execution_count": 60,
     "metadata": {},
     "output_type": "execute_result"
    }
   ],
   "source": [
    "d3"
   ]
  },
  {
   "cell_type": "code",
   "execution_count": 62,
   "id": "660ca51f-c685-45cf-9d43-b8b060f8dac9",
   "metadata": {},
   "outputs": [
    {
     "data": {
      "text/plain": [
       "'sudh'"
      ]
     },
     "execution_count": 62,
     "metadata": {},
     "output_type": "execute_result"
    }
   ],
   "source": [
    "d3['name']"
   ]
  },
  {
   "cell_type": "code",
   "execution_count": 63,
   "id": "c1fe3618-5017-4ac9-aff4-6893bf4d6c20",
   "metadata": {},
   "outputs": [
    {
     "data": {
      "text/plain": [
       "'sharma'"
      ]
     },
     "execution_count": 63,
     "metadata": {},
     "output_type": "execute_result"
    }
   ],
   "source": [
    "d3[2345]"
   ]
  },
  {
   "cell_type": "code",
   "execution_count": 65,
   "id": "e318365e-f27d-4c14-8ae3-091a382b5868",
   "metadata": {},
   "outputs": [],
   "source": [
    "d4={'name':'sudh','@city':'bhopal',2345:\"sharma\",True:'yes',False:'no'}"
   ]
  },
  {
   "cell_type": "code",
   "execution_count": 66,
   "id": "ecfa38da-351b-4514-b2e7-fcb1ba9248fb",
   "metadata": {},
   "outputs": [
    {
     "data": {
      "text/plain": [
       "'yes'"
      ]
     },
     "execution_count": 66,
     "metadata": {},
     "output_type": "execute_result"
    }
   ],
   "source": [
    "d4[True]"
   ]
  },
  {
   "cell_type": "code",
   "execution_count": 67,
   "id": "1fd8030a-33d7-4f6d-8e5c-75aa4d948ba0",
   "metadata": {},
   "outputs": [
    {
     "data": {
      "text/plain": [
       "'yes'"
      ]
     },
     "execution_count": 67,
     "metadata": {},
     "output_type": "execute_result"
    }
   ],
   "source": [
    "d4[1]"
   ]
  },
  {
   "cell_type": "code",
   "execution_count": 68,
   "id": "b9835674-2107-47c6-9354-baf7902831c6",
   "metadata": {},
   "outputs": [
    {
     "data": {
      "text/plain": [
       "'no'"
      ]
     },
     "execution_count": 68,
     "metadata": {},
     "output_type": "execute_result"
    }
   ],
   "source": [
    "d4[0]"
   ]
  },
  {
   "cell_type": "code",
   "execution_count": 69,
   "id": "208bc8eb-5320-4afb-b194-aa6fd120a6cc",
   "metadata": {},
   "outputs": [
    {
     "data": {
      "text/plain": [
       "'bhopal'"
      ]
     },
     "execution_count": 69,
     "metadata": {},
     "output_type": "execute_result"
    }
   ],
   "source": [
    "d4['@city']"
   ]
  },
  {
   "cell_type": "code",
   "execution_count": 70,
   "id": "cc4ffd39-2daf-4766-a51f-07078bdd25e6",
   "metadata": {},
   "outputs": [],
   "source": [
    "d5={'name':'sudh','@city':'bhopal',2345:\"sharma\",'name':'Abhishek'}"
   ]
  },
  {
   "cell_type": "code",
   "execution_count": 71,
   "id": "b65f8501-0580-4a1c-b529-def8ec3e090e",
   "metadata": {},
   "outputs": [
    {
     "data": {
      "text/plain": [
       "{'name': 'Abhishek', '@city': 'bhopal', 2345: 'sharma'}"
      ]
     },
     "execution_count": 71,
     "metadata": {},
     "output_type": "execute_result"
    }
   ],
   "source": [
    "d5"
   ]
  },
  {
   "cell_type": "code",
   "execution_count": 72,
   "id": "40910b19-5a53-4051-b6ca-51ff261c0143",
   "metadata": {},
   "outputs": [
    {
     "data": {
      "text/plain": [
       "'Abhishek'"
      ]
     },
     "execution_count": 72,
     "metadata": {},
     "output_type": "execute_result"
    }
   ],
   "source": [
    "d5['name']"
   ]
  },
  {
   "cell_type": "code",
   "execution_count": 73,
   "id": "35a3adbc-076c-43a7-b6c6-d105b83887f2",
   "metadata": {},
   "outputs": [],
   "source": [
    "d6={'company':'pwskills','courses':['web dev','data science','java with dsa']}"
   ]
  },
  {
   "cell_type": "code",
   "execution_count": 74,
   "id": "bcf94bed-64d7-4ded-b281-e022e9f949b3",
   "metadata": {},
   "outputs": [
    {
     "data": {
      "text/plain": [
       "{'company': 'pwskills',\n",
       " 'courses': ['web dev', 'data science', 'java with dsa']}"
      ]
     },
     "execution_count": 74,
     "metadata": {},
     "output_type": "execute_result"
    }
   ],
   "source": [
    "d6"
   ]
  },
  {
   "cell_type": "code",
   "execution_count": 75,
   "id": "8541901a-d0fa-48dd-99f2-dbd70617446c",
   "metadata": {},
   "outputs": [
    {
     "ename": "KeyError",
     "evalue": "1",
     "output_type": "error",
     "traceback": [
      "\u001b[0;31m---------------------------------------------------------------------------\u001b[0m",
      "\u001b[0;31mKeyError\u001b[0m                                  Traceback (most recent call last)",
      "Cell \u001b[0;32mIn[75], line 1\u001b[0m\n\u001b[0;32m----> 1\u001b[0m \u001b[43md6\u001b[49m\u001b[43m[\u001b[49m\u001b[38;5;241;43m1\u001b[39;49m\u001b[43m]\u001b[49m\n",
      "\u001b[0;31mKeyError\u001b[0m: 1"
     ]
    }
   ],
   "source": [
    "d6[1]"
   ]
  },
  {
   "cell_type": "code",
   "execution_count": 76,
   "id": "2e421757-0a38-4199-924d-536433c0c782",
   "metadata": {},
   "outputs": [
    {
     "data": {
      "text/plain": [
       "['web dev', 'data science', 'java with dsa']"
      ]
     },
     "execution_count": 76,
     "metadata": {},
     "output_type": "execute_result"
    }
   ],
   "source": [
    "d6['courses']"
   ]
  },
  {
   "cell_type": "code",
   "execution_count": 77,
   "id": "db458320-60d8-4efd-92ba-9e5a45bed35e",
   "metadata": {},
   "outputs": [
    {
     "data": {
      "text/plain": [
       "'java with dsa'"
      ]
     },
     "execution_count": 77,
     "metadata": {},
     "output_type": "execute_result"
    }
   ],
   "source": [
    "d6['courses'][2]"
   ]
  },
  {
   "cell_type": "code",
   "execution_count": 79,
   "id": "18e87802-44a2-400d-becd-e4687aef9ccd",
   "metadata": {},
   "outputs": [],
   "source": [
    "d7={\"numbers\":[1,2,3,4,5,6,7],\"assigment\":(2,3,6,5,48,6),\"launch date\":{28,12,5}}"
   ]
  },
  {
   "cell_type": "code",
   "execution_count": 80,
   "id": "0098607a-59a8-4466-bb07-24944801c59f",
   "metadata": {},
   "outputs": [
    {
     "data": {
      "text/plain": [
       "{'numbers': [1, 2, 3, 4, 5, 6, 7],\n",
       " 'assigment': (2, 3, 6, 5, 48, 6),\n",
       " 'launch date': {5, 12, 28}}"
      ]
     },
     "execution_count": 80,
     "metadata": {},
     "output_type": "execute_result"
    }
   ],
   "source": [
    "d7"
   ]
  },
  {
   "cell_type": "code",
   "execution_count": 81,
   "id": "17efde7e-5801-4c1c-9c82-34529ea10877",
   "metadata": {},
   "outputs": [],
   "source": [
    "d8={\"numbers\":[1,2,3,4,5,6,7],\"assigment\":(2,3,6,5,48,6),\"launch date\":{28,12,5},'class time':{'web dev':8,'data science':8,'java with dsa':9}}"
   ]
  },
  {
   "cell_type": "code",
   "execution_count": 82,
   "id": "9191c963-2442-46ac-9c72-0fb9ae6f3743",
   "metadata": {},
   "outputs": [
    {
     "data": {
      "text/plain": [
       "{'numbers': [1, 2, 3, 4, 5, 6, 7],\n",
       " 'assigment': (2, 3, 6, 5, 48, 6),\n",
       " 'launch date': {5, 12, 28},\n",
       " 'class time': {'web dev': 8, 'data science': 8, 'java with dsa': 9}}"
      ]
     },
     "execution_count": 82,
     "metadata": {},
     "output_type": "execute_result"
    }
   ],
   "source": [
    "d8"
   ]
  },
  {
   "cell_type": "code",
   "execution_count": 83,
   "id": "075456d1-3aa1-4ba4-9f12-f60bee799578",
   "metadata": {},
   "outputs": [
    {
     "data": {
      "text/plain": [
       "{'web dev': 8, 'data science': 8, 'java with dsa': 9}"
      ]
     },
     "execution_count": 83,
     "metadata": {},
     "output_type": "execute_result"
    }
   ],
   "source": [
    "d8['class time']"
   ]
  },
  {
   "cell_type": "code",
   "execution_count": 85,
   "id": "03a29129-4181-4126-b040-d65621930bff",
   "metadata": {},
   "outputs": [
    {
     "data": {
      "text/plain": [
       "9"
      ]
     },
     "execution_count": 85,
     "metadata": {},
     "output_type": "execute_result"
    }
   ],
   "source": [
    "d8['class time']['java with dsa']"
   ]
  },
  {
   "cell_type": "code",
   "execution_count": 88,
   "id": "231756c9-1960-4ff0-b440-caa06fb2ae30",
   "metadata": {},
   "outputs": [],
   "source": [
    "d8['mentor']=[\"sudhanshu\",\"anurag\",'krish']"
   ]
  },
  {
   "cell_type": "code",
   "execution_count": 89,
   "id": "e8a0c54f-78db-4427-a7cd-c6bf4ff329ec",
   "metadata": {},
   "outputs": [
    {
     "data": {
      "text/plain": [
       "{'numbers': [1, 2, 3, 4, 5, 6, 7],\n",
       " 'assigment': (2, 3, 6, 5, 48, 6),\n",
       " 'launch date': {5, 12, 28},\n",
       " 'class time': {'web dev': 8, 'data science': 8, 'java with dsa': 9},\n",
       " 'mentor': ['sudhanshu', 'anurag', 'krish']}"
      ]
     },
     "execution_count": 89,
     "metadata": {},
     "output_type": "execute_result"
    }
   ],
   "source": [
    "d8"
   ]
  },
  {
   "cell_type": "code",
   "execution_count": 92,
   "id": "1ac62036-9efd-401d-a10d-a1b3be8bc265",
   "metadata": {},
   "outputs": [],
   "source": [
    "del d8['numbers']"
   ]
  },
  {
   "cell_type": "code",
   "execution_count": 93,
   "id": "b2859899-048b-4fd7-8fc7-c237fa1b0900",
   "metadata": {},
   "outputs": [
    {
     "data": {
      "text/plain": [
       "{'assigment': (2, 3, 6, 5, 48, 6),\n",
       " 'launch date': {5, 12, 28},\n",
       " 'class time': {'web dev': 8, 'data science': 8, 'java with dsa': 9},\n",
       " 'mentor': ['sudhanshu', 'anurag', 'krish']}"
      ]
     },
     "execution_count": 93,
     "metadata": {},
     "output_type": "execute_result"
    }
   ],
   "source": [
    "d8"
   ]
  },
  {
   "cell_type": "code",
   "execution_count": 94,
   "id": "88b6ebb0-6c0f-4a88-8838-b468789f1e4d",
   "metadata": {},
   "outputs": [
    {
     "data": {
      "text/plain": [
       "dict_keys(['assigment', 'launch date', 'class time', 'mentor'])"
      ]
     },
     "execution_count": 94,
     "metadata": {},
     "output_type": "execute_result"
    }
   ],
   "source": [
    "d8.keys()"
   ]
  },
  {
   "cell_type": "code",
   "execution_count": 96,
   "id": "19ec1a11-941e-472b-9649-9088a61b197e",
   "metadata": {},
   "outputs": [
    {
     "data": {
      "text/plain": [
       "['assigment', 'launch date', 'class time', 'mentor']"
      ]
     },
     "execution_count": 96,
     "metadata": {},
     "output_type": "execute_result"
    }
   ],
   "source": [
    "list(d8.keys())"
   ]
  },
  {
   "cell_type": "code",
   "execution_count": 97,
   "id": "4e47d040-52dd-4230-8b19-861d1da1879d",
   "metadata": {},
   "outputs": [
    {
     "data": {
      "text/plain": [
       "dict_values([(2, 3, 6, 5, 48, 6), {12, 28, 5}, {'web dev': 8, 'data science': 8, 'java with dsa': 9}, ['sudhanshu', 'anurag', 'krish']])"
      ]
     },
     "execution_count": 97,
     "metadata": {},
     "output_type": "execute_result"
    }
   ],
   "source": [
    "d8.values()"
   ]
  },
  {
   "cell_type": "code",
   "execution_count": 98,
   "id": "3ec6e064-e6dd-467c-8644-9dd37228ef72",
   "metadata": {},
   "outputs": [
    {
     "data": {
      "text/plain": [
       "[(2, 3, 6, 5, 48, 6),\n",
       " {5, 12, 28},\n",
       " {'web dev': 8, 'data science': 8, 'java with dsa': 9},\n",
       " ['sudhanshu', 'anurag', 'krish']]"
      ]
     },
     "execution_count": 98,
     "metadata": {},
     "output_type": "execute_result"
    }
   ],
   "source": [
    "list(d8.values())"
   ]
  },
  {
   "cell_type": "code",
   "execution_count": 99,
   "id": "7f1751b6-2d0f-4a60-b2e4-c883546aee27",
   "metadata": {},
   "outputs": [
    {
     "data": {
      "text/plain": [
       "dict_items([('assigment', (2, 3, 6, 5, 48, 6)), ('launch date', {12, 28, 5}), ('class time', {'web dev': 8, 'data science': 8, 'java with dsa': 9}), ('mentor', ['sudhanshu', 'anurag', 'krish'])])"
      ]
     },
     "execution_count": 99,
     "metadata": {},
     "output_type": "execute_result"
    }
   ],
   "source": [
    "d8.items()"
   ]
  },
  {
   "cell_type": "code",
   "execution_count": 100,
   "id": "d99730f5-bb47-49b7-bfe5-8e58df2b7a3c",
   "metadata": {},
   "outputs": [
    {
     "data": {
      "text/plain": [
       "[('assigment', (2, 3, 6, 5, 48, 6)),\n",
       " ('launch date', {5, 12, 28}),\n",
       " ('class time', {'web dev': 8, 'data science': 8, 'java with dsa': 9}),\n",
       " ('mentor', ['sudhanshu', 'anurag', 'krish'])]"
      ]
     },
     "execution_count": 100,
     "metadata": {},
     "output_type": "execute_result"
    }
   ],
   "source": [
    "list(d8.items())"
   ]
  },
  {
   "cell_type": "code",
   "execution_count": 102,
   "id": "e1174da3-cb49-43c3-84ad-0faf03b87fcc",
   "metadata": {},
   "outputs": [
    {
     "data": {
      "text/plain": [
       "(2, 3, 6, 5, 48, 6)"
      ]
     },
     "execution_count": 102,
     "metadata": {},
     "output_type": "execute_result"
    }
   ],
   "source": [
    "d8.pop('assigment')"
   ]
  },
  {
   "cell_type": "code",
   "execution_count": 103,
   "id": "fb516e04-2ef9-47c7-97ed-0d1096c7af25",
   "metadata": {},
   "outputs": [
    {
     "data": {
      "text/plain": [
       "{'launch date': {5, 12, 28},\n",
       " 'class time': {'web dev': 8, 'data science': 8, 'java with dsa': 9},\n",
       " 'mentor': ['sudhanshu', 'anurag', 'krish']}"
      ]
     },
     "execution_count": 103,
     "metadata": {},
     "output_type": "execute_result"
    }
   ],
   "source": [
    "d8"
   ]
  },
  {
   "cell_type": "code",
   "execution_count": 109,
   "id": "5cb03fc0-1107-4e3b-aebf-f224712152ae",
   "metadata": {},
   "outputs": [
    {
     "name": "stdout",
     "output_type": "stream",
     "text": [
      "you will be a part of A2 batch\n"
     ]
    }
   ],
   "source": [
    "marks=int(input(\"enter your marks\"))\n",
    "if marks>=80:\n",
    "    print(\"you will be a part of A0 batch\")\n",
    "elif marks>=60 and marks<80:\n",
    "    print(\"you will be a part of A1 batch\")\n",
    "elif marks>=40 and marks<60:\n",
    "    print(\"you will be a part of A2 batch\")\n",
    "else:\n",
    "    print(\"you will be a part of A3 batch\")"
   ]
  },
  {
   "cell_type": "code",
   "execution_count": 110,
   "id": "d45122f1-62d8-402c-acfe-4be7dd6da47d",
   "metadata": {},
   "outputs": [
    {
     "name": "stdin",
     "output_type": "stream",
     "text": [
      "enter your marks 56\n"
     ]
    }
   ],
   "source": [
    "marks=input(\"enter your marks\")"
   ]
  },
  {
   "cell_type": "code",
   "execution_count": 112,
   "id": "b1081522-52e4-4506-8bd3-0791e287c636",
   "metadata": {},
   "outputs": [
    {
     "data": {
      "text/plain": [
       "str"
      ]
     },
     "execution_count": 112,
     "metadata": {},
     "output_type": "execute_result"
    }
   ],
   "source": [
    "type(marks)"
   ]
  },
  {
   "cell_type": "code",
   "execution_count": 113,
   "id": "cd7229a7-0328-4454-9c9e-c2b64a936c3d",
   "metadata": {},
   "outputs": [
    {
     "data": {
      "text/plain": [
       "'56'"
      ]
     },
     "execution_count": 113,
     "metadata": {},
     "output_type": "execute_result"
    }
   ],
   "source": [
    "marks"
   ]
  },
  {
   "cell_type": "code",
   "execution_count": null,
   "id": "4e86ac05-c10d-4adc-95c7-a734113ff2d5",
   "metadata": {},
   "outputs": [],
   "source": [
    "marks=int(input(\"enter your marks\"))"
   ]
  },
  {
   "cell_type": "code",
   "execution_count": 3,
   "id": "0d5beffc-f1ff-4ee7-9571-cef7ab60bc11",
   "metadata": {},
   "outputs": [
    {
     "name": "stdin",
     "output_type": "stream",
     "text": [
      "enter your marks 35\n"
     ]
    },
    {
     "name": "stdout",
     "output_type": "stream",
     "text": [
      "you will be a part of A3 batch\n"
     ]
    }
   ],
   "source": [
    "marks=int(input(\"enter your marks\"))\n",
    "if marks>=80:\n",
    "    print(\"you will be a part of A0 batch\")\n",
    "elif marks>=60 and marks<80:\n",
    "    print(\"you will be a part of A1 batch\")\n",
    "elif marks>=40 and marks<60:\n",
    "    print(\"you will be a part of A2 batch\")\n",
    "else:\n",
    "    print(\"you will be a part of A3 batch\")"
   ]
  },
  {
   "cell_type": "code",
   "execution_count": 8,
   "id": "1c047cc3-377e-4f1d-b970-ac26be34f44c",
   "metadata": {},
   "outputs": [
    {
     "name": "stdin",
     "output_type": "stream",
     "text": [
      "enter your price 200\n"
     ]
    },
    {
     "name": "stdout",
     "output_type": "stream",
     "text": [
      "i will purchase\n"
     ]
    }
   ],
   "source": [
    "price=int(input(\"enter your price\"))\n",
    "if price>1000:\n",
    "    print(\"i will not purchase\")\n",
    "else:\n",
    "    print(\"i will purchase\")"
   ]
  },
  {
   "cell_type": "code",
   "execution_count": 12,
   "id": "193702c5-aecb-4cd5-b40f-334e23dca6e6",
   "metadata": {},
   "outputs": [
    {
     "name": "stdin",
     "output_type": "stream",
     "text": [
      "enter your price 7000\n"
     ]
    },
    {
     "name": "stdout",
     "output_type": "stream",
     "text": [
      "i will not purchase\n",
      "its too much\n"
     ]
    }
   ],
   "source": [
    "price=int(input(\"enter your price\"))\n",
    "if price>1000:\n",
    "    print(\"i will not purchase\")\n",
    "if price>5000:\n",
    "    print(\"its too much\")    "
   ]
  },
  {
   "cell_type": "code",
   "execution_count": 14,
   "id": "ef3fb89d-2259-496f-9ca3-60298afa704e",
   "metadata": {},
   "outputs": [
    {
     "name": "stdin",
     "output_type": "stream",
     "text": [
      "enter your price 1500\n"
     ]
    },
    {
     "name": "stdout",
     "output_type": "stream",
     "text": [
      "i will not purchase\n",
      "its ok\n"
     ]
    }
   ],
   "source": [
    "price=int(input(\"enter your price\"))\n",
    "if price>1000:\n",
    "    print(\"i will not purchase\")\n",
    "if price>5000:\n",
    "    print(\"its too much\")\n",
    "elif price<2000:\n",
    "    print(\"its ok\")\n",
    "    "
   ]
  },
  {
   "cell_type": "code",
   "execution_count": 15,
   "id": "7156f16b-2a02-47ed-9341-b52aae757efb",
   "metadata": {},
   "outputs": [],
   "source": [
    "l=[1,2,3,4,5,6,7,8,9]"
   ]
  },
  {
   "cell_type": "code",
   "execution_count": 16,
   "id": "4df27def-e8cb-4e39-8709-39cb0c95c52c",
   "metadata": {},
   "outputs": [
    {
     "data": {
      "text/plain": [
       "[1, 2, 3, 4, 5, 6, 7, 8, 9]"
      ]
     },
     "execution_count": 16,
     "metadata": {},
     "output_type": "execute_result"
    }
   ],
   "source": [
    "l"
   ]
  },
  {
   "cell_type": "code",
   "execution_count": 18,
   "id": "f267daba-8ae8-46fd-a3ea-e94a950dd7c9",
   "metadata": {},
   "outputs": [
    {
     "data": {
      "text/plain": [
       "2"
      ]
     },
     "execution_count": 18,
     "metadata": {},
     "output_type": "execute_result"
    }
   ],
   "source": [
    "l[0]+1"
   ]
  },
  {
   "cell_type": "code",
   "execution_count": 19,
   "id": "4e6c1c42-8c94-46ce-aed6-7311655b9997",
   "metadata": {},
   "outputs": [],
   "source": [
    "l1=[]"
   ]
  },
  {
   "cell_type": "code",
   "execution_count": 21,
   "id": "cb605e72-6d96-4cad-a670-431b19bd7819",
   "metadata": {},
   "outputs": [],
   "source": [
    "l1.append(l[0]+1)"
   ]
  },
  {
   "cell_type": "code",
   "execution_count": 22,
   "id": "c784583d-9e35-4ff4-9c16-06ee50538b2c",
   "metadata": {},
   "outputs": [
    {
     "data": {
      "text/plain": [
       "[2]"
      ]
     },
     "execution_count": 22,
     "metadata": {},
     "output_type": "execute_result"
    }
   ],
   "source": [
    "l1"
   ]
  },
  {
   "cell_type": "code",
   "execution_count": 23,
   "id": "792c1e2f-59e8-4683-953f-5908c483fdb7",
   "metadata": {},
   "outputs": [
    {
     "data": {
      "text/plain": [
       "3"
      ]
     },
     "execution_count": 23,
     "metadata": {},
     "output_type": "execute_result"
    }
   ],
   "source": [
    "l[1]+1"
   ]
  },
  {
   "cell_type": "code",
   "execution_count": 24,
   "id": "2288b0d2-6c40-45c8-a099-68b04dbeab81",
   "metadata": {},
   "outputs": [
    {
     "data": {
      "text/plain": [
       "[2]"
      ]
     },
     "execution_count": 24,
     "metadata": {},
     "output_type": "execute_result"
    }
   ],
   "source": [
    "l1"
   ]
  },
  {
   "cell_type": "code",
   "execution_count": 25,
   "id": "c08483aa-fc59-433a-aece-c88ce8d1a01d",
   "metadata": {},
   "outputs": [],
   "source": [
    "l1.append(l[1]+1)"
   ]
  },
  {
   "cell_type": "code",
   "execution_count": 26,
   "id": "3e74ccb7-357e-4117-b83f-047ac43038ff",
   "metadata": {},
   "outputs": [
    {
     "data": {
      "text/plain": [
       "[2, 3]"
      ]
     },
     "execution_count": 26,
     "metadata": {},
     "output_type": "execute_result"
    }
   ],
   "source": [
    "l1"
   ]
  },
  {
   "cell_type": "code",
   "execution_count": 3,
   "id": "0b5d7f44-5eac-4c25-bb1d-c0c0a144d607",
   "metadata": {},
   "outputs": [
    {
     "ename": "NameError",
     "evalue": "name 'l' is not defined",
     "output_type": "error",
     "traceback": [
      "\u001b[0;31m---------------------------------------------------------------------------\u001b[0m",
      "\u001b[0;31mNameError\u001b[0m                                 Traceback (most recent call last)",
      "Cell \u001b[0;32mIn[3], line 1\u001b[0m\n\u001b[0;32m----> 1\u001b[0m \u001b[38;5;28;01mfor\u001b[39;00m i \u001b[38;5;129;01min\u001b[39;00m \u001b[43ml\u001b[49m:\n\u001b[1;32m      2\u001b[0m     \u001b[38;5;28mprint\u001b[39m(i)\n",
      "\u001b[0;31mNameError\u001b[0m: name 'l' is not defined"
     ]
    }
   ],
   "source": [
    "for i in l:\n",
    "    print(i)"
   ]
  },
  {
   "cell_type": "code",
   "execution_count": 4,
   "id": "14ab1950-c4b1-4f38-8753-ad2216eb6edf",
   "metadata": {},
   "outputs": [],
   "source": [
    "l=[1,2,3,4,5,6,7,8]"
   ]
  },
  {
   "cell_type": "code",
   "execution_count": 5,
   "id": "16813c2a-1568-4fff-8acf-975f9607c2f2",
   "metadata": {},
   "outputs": [
    {
     "data": {
      "text/plain": [
       "[1, 2, 3, 4, 5, 6, 7, 8]"
      ]
     },
     "execution_count": 5,
     "metadata": {},
     "output_type": "execute_result"
    }
   ],
   "source": [
    "l"
   ]
  },
  {
   "cell_type": "code",
   "execution_count": 10,
   "id": "1bb10ca3-28ba-4dc1-8a1a-a0abf0436b59",
   "metadata": {},
   "outputs": [
    {
     "name": "stdout",
     "output_type": "stream",
     "text": [
      "1\n",
      "2\n",
      "3\n",
      "4\n",
      "5\n",
      "6\n",
      "7\n",
      "8\n"
     ]
    }
   ],
   "source": [
    "for i in l:\n",
    "    print(i)"
   ]
  },
  {
   "cell_type": "code",
   "execution_count": 11,
   "id": "ec2bea87-2d5c-4ab6-b619-08f5df1fba18",
   "metadata": {},
   "outputs": [
    {
     "name": "stdout",
     "output_type": "stream",
     "text": [
      "2\n",
      "3\n",
      "4\n",
      "5\n",
      "6\n",
      "7\n",
      "8\n",
      "9\n"
     ]
    }
   ],
   "source": [
    "for i in l:\n",
    "    print(i+1)"
   ]
  },
  {
   "cell_type": "code",
   "execution_count": 12,
   "id": "cf5e43c7-9664-4dc1-8fa4-3c2ea1a06657",
   "metadata": {},
   "outputs": [
    {
     "name": "stdout",
     "output_type": "stream",
     "text": [
      "2\n",
      "4\n",
      "6\n",
      "8\n",
      "10\n",
      "12\n",
      "14\n",
      "16\n"
     ]
    }
   ],
   "source": [
    "for i in l:\n",
    "    print(i*2)"
   ]
  },
  {
   "cell_type": "code",
   "execution_count": 13,
   "id": "5f8dd3e5-7849-48df-9636-9842816459c3",
   "metadata": {},
   "outputs": [
    {
     "name": "stdout",
     "output_type": "stream",
     "text": [
      "0\n",
      "1\n",
      "2\n",
      "3\n",
      "4\n",
      "5\n",
      "6\n",
      "7\n"
     ]
    }
   ],
   "source": [
    "for i in l:\n",
    "    print(i-1)"
   ]
  },
  {
   "cell_type": "code",
   "execution_count": 14,
   "id": "fa1287ca-e14a-4a79-a58b-112afa88b595",
   "metadata": {},
   "outputs": [
    {
     "name": "stdout",
     "output_type": "stream",
     "text": [
      "0.5\n",
      "1.0\n",
      "1.5\n",
      "2.0\n",
      "2.5\n",
      "3.0\n",
      "3.5\n",
      "4.0\n"
     ]
    }
   ],
   "source": [
    "for i in l:\n",
    "    print(i/2)"
   ]
  },
  {
   "cell_type": "code",
   "execution_count": 20,
   "id": "f2acbd4a-9abc-4268-887d-6e0476a7e945",
   "metadata": {},
   "outputs": [
    {
     "name": "stdout",
     "output_type": "stream",
     "text": [
      "2\n",
      "3\n",
      "4\n",
      "5\n",
      "6\n",
      "7\n",
      "8\n",
      "9\n"
     ]
    }
   ],
   "source": [
    "l1=[]\n",
    "for i in l:\n",
    "    print(i+1)\n",
    "    l1.append(i+1)"
   ]
  },
  {
   "cell_type": "code",
   "execution_count": 21,
   "id": "47f38e72-5a7a-4038-b30a-7d6a9e9c5f66",
   "metadata": {},
   "outputs": [
    {
     "data": {
      "text/plain": [
       "[2, 3, 4, 5, 6, 7, 8, 9]"
      ]
     },
     "execution_count": 21,
     "metadata": {},
     "output_type": "execute_result"
    }
   ],
   "source": [
    "l1"
   ]
  },
  {
   "cell_type": "code",
   "execution_count": 22,
   "id": "567d055b-f6cd-4817-bb5d-1474e323cafd",
   "metadata": {},
   "outputs": [],
   "source": [
    "l=[\"sudh\",\"kumar\",\"pwskills\",\"courses\"]"
   ]
  },
  {
   "cell_type": "code",
   "execution_count": 23,
   "id": "90a0d0ca-6499-4105-87a2-48de52ef42ee",
   "metadata": {},
   "outputs": [
    {
     "data": {
      "text/plain": [
       "['sudh', 'kumar', 'pwskills', 'courses']"
      ]
     },
     "execution_count": 23,
     "metadata": {},
     "output_type": "execute_result"
    }
   ],
   "source": [
    "l"
   ]
  },
  {
   "cell_type": "code",
   "execution_count": 27,
   "id": "53768dbb-5af0-4e45-95d4-0ec53d36b767",
   "metadata": {},
   "outputs": [
    {
     "name": "stdout",
     "output_type": "stream",
     "text": [
      "sudh\n",
      "kumar\n",
      "pwskills\n",
      "courses\n"
     ]
    }
   ],
   "source": [
    "l1=[]\n",
    "for i in l:\n",
    "    print(i)\n",
    "    l1.append(i.upper())"
   ]
  },
  {
   "cell_type": "code",
   "execution_count": 28,
   "id": "72d72780-c975-454c-bb75-917234d7538a",
   "metadata": {},
   "outputs": [
    {
     "data": {
      "text/plain": [
       "['SUDH', 'KUMAR', 'PWSKILLS', 'COURSES']"
      ]
     },
     "execution_count": 28,
     "metadata": {},
     "output_type": "execute_result"
    }
   ],
   "source": [
    "l1"
   ]
  },
  {
   "cell_type": "code",
   "execution_count": 30,
   "id": "f2105b8f-08a9-41a1-9c0b-c42550596462",
   "metadata": {},
   "outputs": [
    {
     "name": "stdout",
     "output_type": "stream",
     "text": [
      "SUDH\n",
      "KUMAR\n",
      "PWSKILLS\n",
      "COURSES\n"
     ]
    }
   ],
   "source": [
    "for i in l1:\n",
    "    print(i)"
   ]
  },
  {
   "cell_type": "code",
   "execution_count": 31,
   "id": "4b2cece8-62f8-436e-87b5-f6bc645bbaeb",
   "metadata": {},
   "outputs": [],
   "source": [
    "l=[1,2,3,4,5,6,\"sudh\",324.356,256,\"abc\"]"
   ]
  },
  {
   "cell_type": "code",
   "execution_count": 54,
   "id": "36ca5c07-75ad-4c4c-87be-25b8956c3602",
   "metadata": {},
   "outputs": [],
   "source": [
    "l1_num=[]\n",
    "l2_str=[]\n",
    "for i in l:\n",
    "    if type(i)==int or type(i)==float:\n",
    "        l1_num.append(i)\n",
    "    else:\n",
    "        l2_str.append(i)"
   ]
  },
  {
   "cell_type": "code",
   "execution_count": 35,
   "id": "a3c6054b-f00d-4ad6-8024-b657947e8c07",
   "metadata": {},
   "outputs": [
    {
     "data": {
      "text/plain": [
       "[1, 2, 3, 4, 5, 6, 324.356, 256]"
      ]
     },
     "execution_count": 35,
     "metadata": {},
     "output_type": "execute_result"
    }
   ],
   "source": [
    "l1_num"
   ]
  },
  {
   "cell_type": "code",
   "execution_count": 36,
   "id": "0a8a61d0-2989-463a-86d4-91df5c3feb0e",
   "metadata": {},
   "outputs": [
    {
     "data": {
      "text/plain": [
       "['sudh', 'abc']"
      ]
     },
     "execution_count": 36,
     "metadata": {},
     "output_type": "execute_result"
    }
   ],
   "source": [
    "l2_str"
   ]
  },
  {
   "cell_type": "code",
   "execution_count": 37,
   "id": "a48ed98f-4818-4bc6-b373-ea77d56cae12",
   "metadata": {},
   "outputs": [],
   "source": [
    "l=[1,2,3,\"abhishek\",\"ABHI\",256.22,44+5j]"
   ]
  },
  {
   "cell_type": "code",
   "execution_count": 38,
   "id": "814cb691-07cd-46df-a8e5-45fc00071b10",
   "metadata": {},
   "outputs": [
    {
     "data": {
      "text/plain": [
       "[1, 2, 3, 'abhishek', 'ABHI', 256.22, (44+5j)]"
      ]
     },
     "execution_count": 38,
     "metadata": {},
     "output_type": "execute_result"
    }
   ],
   "source": [
    "l"
   ]
  },
  {
   "cell_type": "code",
   "execution_count": 39,
   "id": "2505e1e6-5004-4fce-9e67-21f9c4e2784e",
   "metadata": {},
   "outputs": [
    {
     "name": "stdout",
     "output_type": "stream",
     "text": [
      "1\n",
      "2\n",
      "3\n",
      "abhishek\n",
      "ABHI\n",
      "256.22\n",
      "(44+5j)\n"
     ]
    }
   ],
   "source": [
    "for i in l:\n",
    "    print(i)"
   ]
  },
  {
   "cell_type": "code",
   "execution_count": 40,
   "id": "e47a8cb4-ef32-4be9-b95b-3bf520a4bdf6",
   "metadata": {},
   "outputs": [],
   "source": [
    "l1=[]"
   ]
  },
  {
   "cell_type": "code",
   "execution_count": 41,
   "id": "0d778d06-e6e6-42b1-a132-f18b73cb118d",
   "metadata": {},
   "outputs": [
    {
     "name": "stdout",
     "output_type": "stream",
     "text": [
      "1\n",
      "2\n",
      "3\n",
      "abhishek\n",
      "ABHI\n",
      "256.22\n",
      "(44+5j)\n"
     ]
    }
   ],
   "source": [
    "for i in l:\n",
    "    print(i)\n",
    "    l1.append(i)\n"
   ]
  },
  {
   "cell_type": "code",
   "execution_count": 42,
   "id": "ed54ce96-34f3-4fd4-9bec-60675ed8ab80",
   "metadata": {},
   "outputs": [
    {
     "data": {
      "text/plain": [
       "[1, 2, 3, 'abhishek', 'ABHI', 256.22, (44+5j)]"
      ]
     },
     "execution_count": 42,
     "metadata": {},
     "output_type": "execute_result"
    }
   ],
   "source": [
    "l1"
   ]
  },
  {
   "cell_type": "code",
   "execution_count": 57,
   "id": "42914332-6be5-42ab-ad46-505cf231d05c",
   "metadata": {},
   "outputs": [],
   "source": [
    "l1_num=[]\n",
    "l2_str=[]\n",
    "for i in l:\n",
    "    if type(i)==int or type(i)==float or type(i)==complex:\n",
    "        l1_num.append(i)\n",
    "    else:\n",
    "        l2_str.append(i)"
   ]
  },
  {
   "cell_type": "code",
   "execution_count": 58,
   "id": "b3cd5e57-7da3-47df-bdef-bf7bde68a49a",
   "metadata": {},
   "outputs": [
    {
     "data": {
      "text/plain": [
       "[1, 2, 3, 256.22, (44+5j)]"
      ]
     },
     "execution_count": 58,
     "metadata": {},
     "output_type": "execute_result"
    }
   ],
   "source": [
    "l1_num"
   ]
  },
  {
   "cell_type": "code",
   "execution_count": 59,
   "id": "cc8d9b16-b86b-4dd5-8240-5b481a7b5910",
   "metadata": {},
   "outputs": [
    {
     "data": {
      "text/plain": [
       "['abhishek', 'ABHI']"
      ]
     },
     "execution_count": 59,
     "metadata": {},
     "output_type": "execute_result"
    }
   ],
   "source": [
    "l2_str"
   ]
  },
  {
   "cell_type": "code",
   "execution_count": null,
   "id": "9e8dad18-249e-4845-8d53-6aa43ee4dfa8",
   "metadata": {},
   "outputs": [],
   "source": []
  }
 ],
 "metadata": {
  "kernelspec": {
   "display_name": "Python 3 (ipykernel)",
   "language": "python",
   "name": "python3"
  },
  "language_info": {
   "codemirror_mode": {
    "name": "ipython",
    "version": 3
   },
   "file_extension": ".py",
   "mimetype": "text/x-python",
   "name": "python",
   "nbconvert_exporter": "python",
   "pygments_lexer": "ipython3",
   "version": "3.10.8"
  }
 },
 "nbformat": 4,
 "nbformat_minor": 5
}
